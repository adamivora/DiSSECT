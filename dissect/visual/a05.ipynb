{
 "cells": [
  {
   "cell_type": "markdown",
   "metadata": {},
   "source": [
    "# Analysis of A05 results"
   ]
  },
  {
   "cell_type": "markdown",
   "metadata": {},
   "source": [
    "## Data loading & filtering"
   ]
  },
  {
   "cell_type": "code",
   "execution_count": null,
   "metadata": {},
   "outputs": [],
   "source": [
    "from dissect.utils.data_processing import load_curves, load_trait, filter_df\n",
    "from dissect.visual.widgets import get_filtering_widgets, get_choices\n",
    "\n",
    "trait_name = \"a05\"\n",
    "curves = load_curves()\n",
    "df_trait = load_trait(trait_name) # load all results for the given trait\n",
    "df_trait = curves.merge(df_trait, \"right\", \"curve\") # join curve metadata to trait results\n",
    "filtering_widgets = get_filtering_widgets(trait_name)"
   ]
  },
  {
   "cell_type": "markdown",
   "metadata": {},
   "source": [
    "## Data inspection"
   ]
  },
  {
   "cell_type": "code",
   "execution_count": null,
   "metadata": {},
   "outputs": [],
   "source": [
    "df = filter_df(df_trait, get_choices(filtering_widgets))\n",
    "df"
   ]
  },
  {
   "cell_type": "code",
   "execution_count": null,
   "metadata": {},
   "outputs": [],
   "source": [
    "df.agg(set) # display only distinct values"
   ]
  },
  {
   "cell_type": "code",
   "execution_count": null,
   "metadata": {},
   "outputs": [],
   "source": [
    "df.describe()"
   ]
  },
  {
   "cell_type": "markdown",
   "metadata": {},
   "source": [
    "## Data visualization"
   ]
  },
  {
   "cell_type": "code",
   "execution_count": null,
   "metadata": {},
   "outputs": [],
   "source": [
    "from dissect.visual.visualization import normalized_barplot, normalized_bubbleplot"
   ]
  },
  {
   "cell_type": "code",
   "execution_count": null,
   "metadata": {},
   "outputs": [],
   "source": [
    "for column in (\"least\", \"full\"):\n",
    "    normalized_barplot(df, column, title=f\"Normalized barplot of {column}\")"
   ]
  },
  {
   "cell_type": "code",
   "execution_count": null,
   "metadata": {},
   "outputs": [],
   "source": [
    "def normalized_bubbleplot(df, xfeature, yfeature, title=\"Normalized bubble plot\", xlab=None, ylab=None):\n",
    "    if not xlab:\n",
    "        xlab = xfeature\n",
    "    if not ylab:\n",
    "        ylab = yfeature\n",
    "\n",
    "    df = df[[\"simulated\", xfeature, yfeature]]\n",
    "    df = df.dropna(subset=(xfeature, yfeature))\n",
    "    print(df[df[\"simulated\"] == False])\n",
    "    std = df[df[\"simulated\"] == False]\n",
    "    print(std)\n",
    "    std = std.drop([\"simulated\"], axis=1)\n",
    "    sim = df[df[\"simulated\"] == True]\n",
    "    print(sim)\n",
    "    sim = sim.drop([\"simulated\"], axis=1)\n",
    "    \n",
    "    \n",
    "    \n",
    "    std_counts = std.value_counts()\n",
    "    sim_counts = sim.value_counts()\n",
    "#     print(std_counts)\n",
    "#     print(sim_counts)\n",
    "    std_positions = zip(*std_counts.index)\n",
    "    sim_positions = zip(*sim_counts.index)\n",
    "\n",
    "    std_area = 30 ** 2 * std_counts.values / sum(std_counts.values)\n",
    "    sim_area = 30 ** 2 * sim_counts.values / sum(sim_counts.values)\n",
    "    \n",
    "#     for i in std_positions:\n",
    "#         print(i)\n",
    "#     for i in sim_positions:\n",
    "#         print(i)\n",
    "#     print(*std_positions)\n",
    "    plt.figure(figsize=(10, 6))\n",
    "    plt.scatter(*std_positions, s=std_area, alpha=0.5, label=f\"Standard curves n={len(std)}\")\n",
    "    plt.scatter(*sim_positions, s=sim_area, alpha=0.5, label=f\"Simulated curves n={len(sim)}\")\n",
    "    plt.legend()\n",
    "    plt.title(title)\n",
    "    plt.xlabel(xlab)\n",
    "    plt.ylabel(ylab)\n",
    "    plt.show()"
   ]
  },
  {
   "cell_type": "code",
   "execution_count": null,
   "metadata": {},
   "outputs": [],
   "source": [
    "for l in [2,3]:\n",
    "    normalized_bubbleplot(df[df[\"l\"] == l], f\"least\", f\"full\", title=f\"Normalized bubble plot for l={l}\")"
   ]
  },
  {
   "cell_type": "markdown",
   "metadata": {},
   "source": [
    "## Playground"
   ]
  },
  {
   "cell_type": "code",
   "execution_count": null,
   "metadata": {},
   "outputs": [],
   "source": [
    "df\n",
    "# df = df[[\"simulated\", \"least\", \"full\"]]\n",
    "# df = df.dropna(subset=(\"least\", \"full\"))\n",
    "# df[df[\"simulated\"]==False]"
   ]
  },
  {
   "cell_type": "code",
   "execution_count": null,
   "metadata": {},
   "outputs": [],
   "source": [
    "df[df[\"l\"] == 2]"
   ]
  },
  {
   "cell_type": "code",
   "execution_count": null,
   "metadata": {},
   "outputs": [],
   "source": []
  }
 ],
 "metadata": {
  "kernelspec": {
   "display_name": "venv",
   "language": "python",
   "name": "venv"
  },
  "language_info": {
   "codemirror_mode": {
    "name": "ipython",
    "version": 3
   },
   "file_extension": ".py",
   "mimetype": "text/x-python",
   "name": "python",
   "nbconvert_exporter": "python",
   "pygments_lexer": "ipython3",
   "version": "3.7.3"
  }
 },
 "nbformat": 4,
 "nbformat_minor": 4
}
