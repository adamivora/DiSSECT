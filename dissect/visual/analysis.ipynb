{
 "cells": [
  {
   "cell_type": "markdown",
   "metadata": {},
   "source": [
    "# Visual analysis of trait results"
   ]
  },
  {
   "cell_type": "markdown",
   "metadata": {},
   "source": [
    "## Data loading & filtering"
   ]
  },
  {
   "cell_type": "code",
   "execution_count": 1,
   "metadata": {},
   "outputs": [
    {
     "data": {
      "text/plain": "Dropdown(description='Trait name:', index=15, layout=Layout(width='auto'), options=('a08 (class number of the …",
      "application/vnd.jupyter.widget-view+json": {
       "version_major": 2,
       "version_minor": 0,
       "model_id": "ec736fdc0dd548c0a568f0d26d66966b"
      }
     },
     "metadata": {},
     "output_type": "display_data"
    }
   ],
   "source": [
    "from dissect.utils.data_processing import load_curves, get_trait_df, get_all\n",
    "from dissect.visual.widgets import trait_selection_widget, get_filtering_widgets, get_choices\n",
    "from dissect.visual.visualization import normalized_barplot, Modifier\n",
    "curves = load_curves()\n",
    "ts = trait_selection_widget()"
   ]
  },
  {
   "cell_type": "code",
   "execution_count": 2,
   "metadata": {},
   "outputs": [
    {
     "data": {
      "text/plain": "Tab(children=(HBox(children=(VBox(children=(Label(value='source:'), Text(value='', layout=Layout(width='auto')…",
      "application/vnd.jupyter.widget-view+json": {
       "version_major": 2,
       "version_minor": 0,
       "model_id": "8767af084389470cb25f209d0dcf06d7"
      }
     },
     "metadata": {},
     "output_type": "display_data"
    }
   ],
   "source": [
    "trait_name = ts.value[:3]\n",
    "trait_df = get_trait_df(curves, trait_name)\n",
    "filtering_widgets = get_filtering_widgets(trait_name, trait_df)"
   ]
  },
  {
   "cell_type": "markdown",
   "metadata": {},
   "source": [
    "## Data visualization"
   ]
  },
  {
   "cell_type": "code",
   "execution_count": 5,
   "metadata": {},
   "outputs": [
    {
     "data": {
      "text/plain": "<Figure size 216x216 with 1 Axes>",
      "image/png": "[encoded data removed]"
     },
     "metadata": {
      "needs_background": "light"
     },
     "output_type": "display_data"
    },
    {
     "data": {
      "text/plain": "<Figure size 216x216 with 1 Axes>",
      "image/png": "[encoded data removed]"
     },
     "metadata": {
      "needs_background": "light"
     },
     "output_type": "display_data"
    }
   ],
   "source": [
    "for df, param, feature, modifier in get_all(trait_df, get_choices(filtering_widgets)):\n",
    "    normalized_barplot(df,param, feature, modifier, tick_spacing=0, figsize=(3,3))"
   ]
  },
  {
   "cell_type": "markdown",
   "metadata": {},
   "source": [
    "## Data inspection"
   ]
  },
  {
   "cell_type": "code",
   "execution_count": 30,
   "metadata": {},
   "outputs": [
    {
     "data": {
      "text/html": [
       "<div>\n",
       "<style scoped>\n",
       "    .dataframe tbody tr th:only-of-type {\n",
       "        vertical-align: middle;\n",
       "    }\n",
       "\n",
       "    .dataframe tbody tr th {\n",
       "        vertical-align: top;\n",
       "    }\n",
       "\n",
       "    .dataframe thead th {\n",
       "        text-align: right;\n",
       "    }\n",
       "</style>\n",
       "<table border=\"1\" class=\"dataframe\">\n",
       "  <thead>\n",
       "    <tr style=\"text-align: right;\">\n",
       "      <th></th>\n",
       "      <th>curve</th>\n",
       "      <th>simulated</th>\n",
       "      <th>bitlength</th>\n",
       "      <th>cofactor</th>\n",
       "      <th>l</th>\n",
       "      <th>order</th>\n",
       "      <th>complement_bit_length</th>\n",
       "    </tr>\n",
       "  </thead>\n",
       "  <tbody>\n",
       "    <tr>\n",
       "      <th>159</th>\n",
       "      <td>BLS12-381</td>\n",
       "      <td>False</td>\n",
       "      <td>381</td>\n",
       "      <td>76329603384216526031706109802092473003</td>\n",
       "      <td>7</td>\n",
       "      <td>5217543168304298007815585786320702756105457060...</td>\n",
       "      <td>76</td>\n",
       "    </tr>\n",
       "  </tbody>\n",
       "</table>\n",
       "</div>"
      ],
      "text/plain": [
       "         curve  simulated  bitlength                                cofactor  \\\n",
       "159  BLS12-381      False        381  76329603384216526031706109802092473003   \n",
       "\n",
       "     l                                              order  \\\n",
       "159  7  5217543168304298007815585786320702756105457060...   \n",
       "\n",
       "     complement_bit_length  \n",
       "159                     76  "
      ]
     },
     "execution_count": 30,
     "metadata": {},
     "output_type": "execute_result"
    }
   ],
   "source": [
    "df"
   ]
  },
  {
   "cell_type": "code",
   "execution_count": 22,
   "metadata": {},
   "outputs": [
    {
     "data": {
      "text/html": [
       "<div>\n",
       "<style scoped>\n",
       "    .dataframe tbody tr th:only-of-type {\n",
       "        vertical-align: middle;\n",
       "    }\n",
       "\n",
       "    .dataframe tbody tr th {\n",
       "        vertical-align: top;\n",
       "    }\n",
       "\n",
       "    .dataframe thead th {\n",
       "        text-align: right;\n",
       "    }\n",
       "</style>\n",
       "<table border=\"1\" class=\"dataframe\">\n",
       "  <thead>\n",
       "    <tr style=\"text-align: right;\">\n",
       "      <th></th>\n",
       "      <th>curve</th>\n",
       "      <th>simulated</th>\n",
       "      <th>bitlength</th>\n",
       "      <th>cofactor</th>\n",
       "      <th>l</th>\n",
       "      <th>order</th>\n",
       "      <th>complement_bit_length</th>\n",
       "    </tr>\n",
       "  </thead>\n",
       "  <tbody>\n",
       "    <tr>\n",
       "      <th>0</th>\n",
       "      <td>secp112r1</td>\n",
       "      <td>False</td>\n",
       "      <td>112</td>\n",
       "      <td>1</td>\n",
       "      <td>2</td>\n",
       "      <td>4451685225093714776491891542548932</td>\n",
       "      <td>1</td>\n",
       "    </tr>\n",
       "    <tr>\n",
       "      <th>1</th>\n",
       "      <td>secp112r1</td>\n",
       "      <td>False</td>\n",
       "      <td>112</td>\n",
       "      <td>1</td>\n",
       "      <td>3</td>\n",
       "      <td>4451685225093714776491891542548932</td>\n",
       "      <td>1</td>\n",
       "    </tr>\n",
       "    <tr>\n",
       "      <th>2</th>\n",
       "      <td>secp112r1</td>\n",
       "      <td>False</td>\n",
       "      <td>112</td>\n",
       "      <td>1</td>\n",
       "      <td>5</td>\n",
       "      <td>4451685225093714776491891542548932</td>\n",
       "      <td>1</td>\n",
       "    </tr>\n",
       "    <tr>\n",
       "      <th>3</th>\n",
       "      <td>secp112r1</td>\n",
       "      <td>False</td>\n",
       "      <td>112</td>\n",
       "      <td>1</td>\n",
       "      <td>7</td>\n",
       "      <td>2225842612546857388245945771274466</td>\n",
       "      <td>2</td>\n",
       "    </tr>\n",
       "    <tr>\n",
       "      <th>4</th>\n",
       "      <td>secp112r1</td>\n",
       "      <td>False</td>\n",
       "      <td>112</td>\n",
       "      <td>1</td>\n",
       "      <td>11</td>\n",
       "      <td>4451685225093714776491891542548932</td>\n",
       "      <td>1</td>\n",
       "    </tr>\n",
       "    <tr>\n",
       "      <th>...</th>\n",
       "      <td>...</td>\n",
       "      <td>...</td>\n",
       "      <td>...</td>\n",
       "      <td>...</td>\n",
       "      <td>...</td>\n",
       "      <td>...</td>\n",
       "      <td>...</td>\n",
       "    </tr>\n",
       "    <tr>\n",
       "      <th>1303627</th>\n",
       "      <td>x962_sim_256_seed_diff_4890468</td>\n",
       "      <td>&lt;NA&gt;</td>\n",
       "      <td>&lt;NA&gt;</td>\n",
       "      <td>NaN</td>\n",
       "      <td>3</td>\n",
       "      <td>5789604460517812438134872347470378676534072232...</td>\n",
       "      <td>2</td>\n",
       "    </tr>\n",
       "    <tr>\n",
       "      <th>1303628</th>\n",
       "      <td>x962_sim_256_seed_diff_4890468</td>\n",
       "      <td>&lt;NA&gt;</td>\n",
       "      <td>&lt;NA&gt;</td>\n",
       "      <td>NaN</td>\n",
       "      <td>5</td>\n",
       "      <td>5789604460517812438134872347470378676534072232...</td>\n",
       "      <td>2</td>\n",
       "    </tr>\n",
       "    <tr>\n",
       "      <th>1303629</th>\n",
       "      <td>x962_sim_256_seed_diff_4890468</td>\n",
       "      <td>&lt;NA&gt;</td>\n",
       "      <td>&lt;NA&gt;</td>\n",
       "      <td>NaN</td>\n",
       "      <td>7</td>\n",
       "      <td>1157920892103562487626974469494075735306814446...</td>\n",
       "      <td>1</td>\n",
       "    </tr>\n",
       "    <tr>\n",
       "      <th>1303630</th>\n",
       "      <td>x962_sim_256_seed_diff_4890468</td>\n",
       "      <td>&lt;NA&gt;</td>\n",
       "      <td>&lt;NA&gt;</td>\n",
       "      <td>NaN</td>\n",
       "      <td>11</td>\n",
       "      <td>1157920892103562487626974469494075735306814446...</td>\n",
       "      <td>1</td>\n",
       "    </tr>\n",
       "    <tr>\n",
       "      <th>1303631</th>\n",
       "      <td>x962_sim_256_seed_diff_4890468</td>\n",
       "      <td>&lt;NA&gt;</td>\n",
       "      <td>&lt;NA&gt;</td>\n",
       "      <td>NaN</td>\n",
       "      <td>13</td>\n",
       "      <td>1157920892103562487626974469494075735306814446...</td>\n",
       "      <td>1</td>\n",
       "    </tr>\n",
       "  </tbody>\n",
       "</table>\n",
       "<p>1303632 rows × 7 columns</p>\n",
       "</div>"
      ],
      "text/plain": [
       "                                  curve  simulated  bitlength cofactor   l  \\\n",
       "0                             secp112r1      False        112        1   2   \n",
       "1                             secp112r1      False        112        1   3   \n",
       "2                             secp112r1      False        112        1   5   \n",
       "3                             secp112r1      False        112        1   7   \n",
       "4                             secp112r1      False        112        1  11   \n",
       "...                                 ...        ...        ...      ...  ..   \n",
       "1303627  x962_sim_256_seed_diff_4890468       <NA>       <NA>      NaN   3   \n",
       "1303628  x962_sim_256_seed_diff_4890468       <NA>       <NA>      NaN   5   \n",
       "1303629  x962_sim_256_seed_diff_4890468       <NA>       <NA>      NaN   7   \n",
       "1303630  x962_sim_256_seed_diff_4890468       <NA>       <NA>      NaN  11   \n",
       "1303631  x962_sim_256_seed_diff_4890468       <NA>       <NA>      NaN  13   \n",
       "\n",
       "                                                     order  \\\n",
       "0                       4451685225093714776491891542548932   \n",
       "1                       4451685225093714776491891542548932   \n",
       "2                       4451685225093714776491891542548932   \n",
       "3                       2225842612546857388245945771274466   \n",
       "4                       4451685225093714776491891542548932   \n",
       "...                                                    ...   \n",
       "1303627  5789604460517812438134872347470378676534072232...   \n",
       "1303628  5789604460517812438134872347470378676534072232...   \n",
       "1303629  1157920892103562487626974469494075735306814446...   \n",
       "1303630  1157920892103562487626974469494075735306814446...   \n",
       "1303631  1157920892103562487626974469494075735306814446...   \n",
       "\n",
       "         complement_bit_length  \n",
       "0                            1  \n",
       "1                            1  \n",
       "2                            1  \n",
       "3                            2  \n",
       "4                            1  \n",
       "...                        ...  \n",
       "1303627                      2  \n",
       "1303628                      2  \n",
       "1303629                      1  \n",
       "1303630                      1  \n",
       "1303631                      1  \n",
       "\n",
       "[1303632 rows x 7 columns]"
      ]
     },
     "execution_count": 22,
     "metadata": {},
     "output_type": "execute_result"
    }
   ],
   "source": [
    "trait_df"
   ]
  },
  {
   "cell_type": "code",
   "execution_count": 20,
   "metadata": {},
   "outputs": [
    {
     "data": {
      "text/html": [
       "<div>\n",
       "<style scoped>\n",
       "    .dataframe tbody tr th:only-of-type {\n",
       "        vertical-align: middle;\n",
       "    }\n",
       "\n",
       "    .dataframe tbody tr th {\n",
       "        vertical-align: top;\n",
       "    }\n",
       "\n",
       "    .dataframe thead th {\n",
       "        text-align: right;\n",
       "    }\n",
       "</style>\n",
       "<table border=\"1\" class=\"dataframe\">\n",
       "  <thead>\n",
       "    <tr style=\"text-align: right;\">\n",
       "      <th></th>\n",
       "      <th>curve</th>\n",
       "      <th>simulated</th>\n",
       "      <th>bitlength</th>\n",
       "      <th>cofactor</th>\n",
       "    </tr>\n",
       "  </thead>\n",
       "  <tbody>\n",
       "    <tr>\n",
       "      <th>0</th>\n",
       "      <td>secp112r1</td>\n",
       "      <td>False</td>\n",
       "      <td>112</td>\n",
       "      <td>1</td>\n",
       "    </tr>\n",
       "    <tr>\n",
       "      <th>1</th>\n",
       "      <td>secp112r2</td>\n",
       "      <td>False</td>\n",
       "      <td>112</td>\n",
       "      <td>4</td>\n",
       "    </tr>\n",
       "    <tr>\n",
       "      <th>2</th>\n",
       "      <td>secp128r1</td>\n",
       "      <td>False</td>\n",
       "      <td>128</td>\n",
       "      <td>1</td>\n",
       "    </tr>\n",
       "    <tr>\n",
       "      <th>3</th>\n",
       "      <td>secp128r2</td>\n",
       "      <td>False</td>\n",
       "      <td>128</td>\n",
       "      <td>4</td>\n",
       "    </tr>\n",
       "    <tr>\n",
       "      <th>4</th>\n",
       "      <td>secp160k1</td>\n",
       "      <td>False</td>\n",
       "      <td>160</td>\n",
       "      <td>1</td>\n",
       "    </tr>\n",
       "    <tr>\n",
       "      <th>...</th>\n",
       "      <td>...</td>\n",
       "      <td>...</td>\n",
       "      <td>...</td>\n",
       "      <td>...</td>\n",
       "    </tr>\n",
       "    <tr>\n",
       "      <th>203</th>\n",
       "      <td>wap-wsg-idm-ecid-wtls8</td>\n",
       "      <td>False</td>\n",
       "      <td>112</td>\n",
       "      <td>1</td>\n",
       "    </tr>\n",
       "    <tr>\n",
       "      <th>204</th>\n",
       "      <td>wap-wsg-idm-ecid-wtls9</td>\n",
       "      <td>False</td>\n",
       "      <td>160</td>\n",
       "      <td>1</td>\n",
       "    </tr>\n",
       "    <tr>\n",
       "      <th>205</th>\n",
       "      <td>wap-wsg-idm-ecid-wtls10</td>\n",
       "      <td>False</td>\n",
       "      <td>233</td>\n",
       "      <td>4</td>\n",
       "    </tr>\n",
       "    <tr>\n",
       "      <th>206</th>\n",
       "      <td>wap-wsg-idm-ecid-wtls11</td>\n",
       "      <td>False</td>\n",
       "      <td>233</td>\n",
       "      <td>2</td>\n",
       "    </tr>\n",
       "    <tr>\n",
       "      <th>207</th>\n",
       "      <td>wap-wsg-idm-ecid-wtls12</td>\n",
       "      <td>False</td>\n",
       "      <td>224</td>\n",
       "      <td>1</td>\n",
       "    </tr>\n",
       "  </tbody>\n",
       "</table>\n",
       "<p>208 rows × 4 columns</p>\n",
       "</div>"
      ],
      "text/plain": [
       "                       curve  simulated  bitlength cofactor\n",
       "0                  secp112r1      False        112        1\n",
       "1                  secp112r2      False        112        4\n",
       "2                  secp128r1      False        128        1\n",
       "3                  secp128r2      False        128        4\n",
       "4                  secp160k1      False        160        1\n",
       "..                       ...        ...        ...      ...\n",
       "203   wap-wsg-idm-ecid-wtls8      False        112        1\n",
       "204   wap-wsg-idm-ecid-wtls9      False        160        1\n",
       "205  wap-wsg-idm-ecid-wtls10      False        233        4\n",
       "206  wap-wsg-idm-ecid-wtls11      False        233        2\n",
       "207  wap-wsg-idm-ecid-wtls12      False        224        1\n",
       "\n",
       "[208 rows x 4 columns]"
      ]
     },
     "execution_count": 20,
     "metadata": {},
     "output_type": "execute_result"
    }
   ],
   "source": [
    "curves"
   ]
  },
  {
   "cell_type": "markdown",
   "metadata": {},
   "source": [
    "## Playground"
   ]
  }
 ],
 "metadata": {
  "kernelspec": {
   "display_name": "dissectenv",
   "language": "python",
   "name": "dissectenv"
  },
  "language_info": {
   "codemirror_mode": {
    "name": "ipython",
    "version": 3
   },
   "file_extension": ".py",
   "mimetype": "text/x-python",
   "name": "python",
   "nbconvert_exporter": "python",
   "pygments_lexer": "ipython3",
   "version": "3.8.5"
  }
 },
 "nbformat": 4,
 "nbformat_minor": 4
}