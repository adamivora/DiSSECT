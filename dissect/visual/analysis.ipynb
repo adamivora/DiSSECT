{
 "cells": [
  {
   "cell_type": "markdown",
   "metadata": {},
   "source": [
    "# Visual analysis of trait results"
   ]
  },
  {
   "cell_type": "markdown",
   "metadata": {},
   "source": [
    "## Data loading & filtering"
   ]
  },
  {
   "cell_type": "code",
   "execution_count": 2,
   "metadata": {},
   "outputs": [
    {
     "data": {
      "application/vnd.jupyter.widget-view+json": {
       "model_id": "26858ebacfcc4b60b0bcb8127262b8c4",
       "version_major": 2,
       "version_minor": 0
      },
      "text/plain": [
       "Loading curves:   0%|          | 0/217396 [00:00<?, ?it/s]"
      ]
     },
     "metadata": {},
     "output_type": "display_data"
    },
    {
     "data": {
      "application/vnd.jupyter.widget-view+json": {
       "model_id": "bd63d79b48cf41bab12383816f31ab6d",
       "version_major": 2,
       "version_minor": 0
      },
      "text/plain": [
       "Dropdown(description='Trait name:', index=15, layout=Layout(width='auto'), options=('a08 (class number of the …"
      ]
     },
     "metadata": {},
     "output_type": "display_data"
    }
   ],
   "source": [
    "from dissect.utils.data_processing import load_curves, get_trait_df\n",
    "from dissect.visual.widgets import trait_selection_widget, get_filtering_widgets, get_choices\n",
    "from dissect.visual.visualization import interact_multiplot\n",
    "curves = load_curves()\n",
    "ts = trait_selection_widget()"
   ]
  },
  {
   "cell_type": "code",
   "execution_count": 3,
   "metadata": {},
   "outputs": [
    {
     "data": {
      "application/vnd.jupyter.widget-view+json": {
       "model_id": "fef8974dcb1b4859ac0a0b37abc60c87",
       "version_major": 2,
       "version_minor": 0
      },
      "text/plain": [
       "Loading trait results:   0%|          | 0/108524 [00:00<?, ?it/s]"
      ]
     },
     "metadata": {},
     "output_type": "display_data"
    },
    {
     "data": {
      "application/vnd.jupyter.widget-view+json": {
       "model_id": "2f651cd4d4464cdd8bf5e43f83c01062",
       "version_major": 2,
       "version_minor": 0
      },
      "text/plain": [
       "Tab(children=(HBox(children=(VBox(children=(Label(value='source:'), Text(value='', layout=Layout(width='auto')…"
      ]
     },
     "metadata": {},
     "output_type": "display_data"
    }
   ],
   "source": [
    "trait_name = ts.value[:3]\n",
    "trait_df = get_trait_df(curves, trait_name)\n",
    "filtering_widgets = get_filtering_widgets(trait_name, trait_df)"
   ]
  },
  {
   "cell_type": "markdown",
   "metadata": {},
   "source": [
    "## Data visualization"
   ]
  },
  {
   "cell_type": "code",
   "execution_count": 7,
   "metadata": {},
   "outputs": [
    {
     "data": {
      "application/vnd.jupyter.widget-view+json": {
       "model_id": "4e67161302794ae5a41d6f465f8a9f4e",
       "version_major": 2,
       "version_minor": 0
      },
      "text/plain": [
       "interactive(children=(IntSlider(value=10, description='height', max=30, min=1), IntSlider(value=7, description…"
      ]
     },
     "metadata": {},
     "output_type": "display_data"
    }
   ],
   "source": [
    "results = interact_multiplot(trait_df,filtering_widgets)"
   ]
  },
  {
   "cell_type": "markdown",
   "metadata": {},
   "source": [
    "## Data inspection"
   ]
  },
  {
   "cell_type": "code",
   "execution_count": 6,
   "metadata": {},
   "outputs": [
    {
     "data": {
      "text/html": [
       "<div>\n",
       "<style scoped>\n",
       "    .dataframe tbody tr th:only-of-type {\n",
       "        vertical-align: middle;\n",
       "    }\n",
       "\n",
       "    .dataframe tbody tr th {\n",
       "        vertical-align: top;\n",
       "    }\n",
       "\n",
       "    .dataframe thead th {\n",
       "        text-align: right;\n",
       "    }\n",
       "</style>\n",
       "<table border=\"1\" class=\"dataframe\">\n",
       "  <thead>\n",
       "    <tr style=\"text-align: right;\">\n",
       "      <th></th>\n",
       "      <th>curve</th>\n",
       "      <th>simulated</th>\n",
       "      <th>bitlength</th>\n",
       "      <th>cofactor</th>\n",
       "      <th>deg</th>\n",
       "      <th>twist_cardinality</th>\n",
       "      <th>factorization</th>\n",
       "    </tr>\n",
       "  </thead>\n",
       "  <tbody>\n",
       "    <tr>\n",
       "      <th>0</th>\n",
       "      <td>x962_sim_128_seed_diff_2896470</td>\n",
       "      <td>True</td>\n",
       "      <td>128</td>\n",
       "      <td>1</td>\n",
       "      <td>1</td>\n",
       "      <td>340282366762482138470468292964371595469</td>\n",
       "      <td>[463, 30495497, 1246951859, 19327382918923983881]</td>\n",
       "    </tr>\n",
       "    <tr>\n",
       "      <th>1</th>\n",
       "      <td>x962_sim_128_seed_diff_2896470</td>\n",
       "      <td>True</td>\n",
       "      <td>128</td>\n",
       "      <td>1</td>\n",
       "      <td>2</td>\n",
       "      <td>1157920891294764087800768327715665705604424427...</td>\n",
       "      <td>NO DATA (timed out)</td>\n",
       "    </tr>\n",
       "    <tr>\n",
       "      <th>2</th>\n",
       "      <td>x962_sim_128_seed_diff_3811712</td>\n",
       "      <td>True</td>\n",
       "      <td>128</td>\n",
       "      <td>1</td>\n",
       "      <td>1</td>\n",
       "      <td>340282366762482138463252537796455997459</td>\n",
       "      <td>[340282366762482138463252537796455997459]</td>\n",
       "    </tr>\n",
       "    <tr>\n",
       "      <th>3</th>\n",
       "      <td>x962_sim_128_seed_diff_3811712</td>\n",
       "      <td>True</td>\n",
       "      <td>128</td>\n",
       "      <td>1</td>\n",
       "      <td>2</td>\n",
       "      <td>1157920891294764087800768327715665705599804254...</td>\n",
       "      <td>[3, 3, 3, 3, 142953196456143714543304731816748...</td>\n",
       "    </tr>\n",
       "    <tr>\n",
       "      <th>4</th>\n",
       "      <td>x962_sim_128_seed_diff_3560709</td>\n",
       "      <td>True</td>\n",
       "      <td>128</td>\n",
       "      <td>1</td>\n",
       "      <td>1</td>\n",
       "      <td>340282366762482138458105995371147958067</td>\n",
       "      <td>[4483, 58498981077619, 1297544927469108488171]</td>\n",
       "    </tr>\n",
       "    <tr>\n",
       "      <th>...</th>\n",
       "      <td>...</td>\n",
       "      <td>...</td>\n",
       "      <td>...</td>\n",
       "      <td>...</td>\n",
       "      <td>...</td>\n",
       "      <td>...</td>\n",
       "      <td>...</td>\n",
       "    </tr>\n",
       "    <tr>\n",
       "      <th>108519</th>\n",
       "      <td>x962_sim_256_seed_diff_4448114</td>\n",
       "      <td>True</td>\n",
       "      <td>256</td>\n",
       "      <td>1</td>\n",
       "      <td>2</td>\n",
       "      <td>1340780792369910000112255670799101168355979935...</td>\n",
       "      <td>NO DATA (timed out)</td>\n",
       "    </tr>\n",
       "    <tr>\n",
       "      <th>108520</th>\n",
       "      <td>x962_sim_256_seed_diff_4314713</td>\n",
       "      <td>True</td>\n",
       "      <td>256</td>\n",
       "      <td>1</td>\n",
       "      <td>1</td>\n",
       "      <td>1157920892103562487626974469494075735296983254...</td>\n",
       "      <td>[3, 43, 701420047, 43432057211, 9102358869349,...</td>\n",
       "    </tr>\n",
       "    <tr>\n",
       "      <th>108521</th>\n",
       "      <td>x962_sim_256_seed_diff_4314713</td>\n",
       "      <td>True</td>\n",
       "      <td>256</td>\n",
       "      <td>1</td>\n",
       "      <td>2</td>\n",
       "      <td>1340780792369910000112255670799101168355979935...</td>\n",
       "      <td>NO DATA (timed out)</td>\n",
       "    </tr>\n",
       "    <tr>\n",
       "      <th>108522</th>\n",
       "      <td>x962_sim_256_seed_diff_4651163</td>\n",
       "      <td>True</td>\n",
       "      <td>256</td>\n",
       "      <td>1</td>\n",
       "      <td>1</td>\n",
       "      <td>1157920892103562487626974469494075735295104447...</td>\n",
       "      <td>[3, 3, 311, 264220889, 15657010468589837981353...</td>\n",
       "    </tr>\n",
       "    <tr>\n",
       "      <th>108523</th>\n",
       "      <td>x962_sim_256_seed_diff_4651163</td>\n",
       "      <td>True</td>\n",
       "      <td>256</td>\n",
       "      <td>1</td>\n",
       "      <td>2</td>\n",
       "      <td>1340780792369910000112255670799101168355979935...</td>\n",
       "      <td>NO DATA (timed out)</td>\n",
       "    </tr>\n",
       "  </tbody>\n",
       "</table>\n",
       "<p>108524 rows × 7 columns</p>\n",
       "</div>"
      ],
      "text/plain": [
       "                                 curve  simulated  bitlength cofactor  deg  \\\n",
       "0       x962_sim_128_seed_diff_2896470       True        128        1    1   \n",
       "1       x962_sim_128_seed_diff_2896470       True        128        1    2   \n",
       "2       x962_sim_128_seed_diff_3811712       True        128        1    1   \n",
       "3       x962_sim_128_seed_diff_3811712       True        128        1    2   \n",
       "4       x962_sim_128_seed_diff_3560709       True        128        1    1   \n",
       "...                                ...        ...        ...      ...  ...   \n",
       "108519  x962_sim_256_seed_diff_4448114       True        256        1    2   \n",
       "108520  x962_sim_256_seed_diff_4314713       True        256        1    1   \n",
       "108521  x962_sim_256_seed_diff_4314713       True        256        1    2   \n",
       "108522  x962_sim_256_seed_diff_4651163       True        256        1    1   \n",
       "108523  x962_sim_256_seed_diff_4651163       True        256        1    2   \n",
       "\n",
       "                                        twist_cardinality  \\\n",
       "0                 340282366762482138470468292964371595469   \n",
       "1       1157920891294764087800768327715665705604424427...   \n",
       "2                 340282366762482138463252537796455997459   \n",
       "3       1157920891294764087800768327715665705599804254...   \n",
       "4                 340282366762482138458105995371147958067   \n",
       "...                                                   ...   \n",
       "108519  1340780792369910000112255670799101168355979935...   \n",
       "108520  1157920892103562487626974469494075735296983254...   \n",
       "108521  1340780792369910000112255670799101168355979935...   \n",
       "108522  1157920892103562487626974469494075735295104447...   \n",
       "108523  1340780792369910000112255670799101168355979935...   \n",
       "\n",
       "                                            factorization  \n",
       "0       [463, 30495497, 1246951859, 19327382918923983881]  \n",
       "1                                     NO DATA (timed out)  \n",
       "2               [340282366762482138463252537796455997459]  \n",
       "3       [3, 3, 3, 3, 142953196456143714543304731816748...  \n",
       "4          [4483, 58498981077619, 1297544927469108488171]  \n",
       "...                                                   ...  \n",
       "108519                                NO DATA (timed out)  \n",
       "108520  [3, 43, 701420047, 43432057211, 9102358869349,...  \n",
       "108521                                NO DATA (timed out)  \n",
       "108522  [3, 3, 311, 264220889, 15657010468589837981353...  \n",
       "108523                                NO DATA (timed out)  \n",
       "\n",
       "[108524 rows x 7 columns]"
      ]
     },
     "execution_count": 6,
     "metadata": {},
     "output_type": "execute_result"
    }
   ],
   "source": [
    "trait_df"
   ]
  },
  {
   "cell_type": "code",
   "execution_count": 20,
   "metadata": {},
   "outputs": [
    {
     "data": {
      "text/html": [
       "<div>\n",
       "<style scoped>\n",
       "    .dataframe tbody tr th:only-of-type {\n",
       "        vertical-align: middle;\n",
       "    }\n",
       "\n",
       "    .dataframe tbody tr th {\n",
       "        vertical-align: top;\n",
       "    }\n",
       "\n",
       "    .dataframe thead th {\n",
       "        text-align: right;\n",
       "    }\n",
       "</style>\n",
       "<table border=\"1\" class=\"dataframe\">\n",
       "  <thead>\n",
       "    <tr style=\"text-align: right;\">\n",
       "      <th></th>\n",
       "      <th>curve</th>\n",
       "      <th>simulated</th>\n",
       "      <th>bitlength</th>\n",
       "      <th>cofactor</th>\n",
       "    </tr>\n",
       "  </thead>\n",
       "  <tbody>\n",
       "    <tr>\n",
       "      <th>0</th>\n",
       "      <td>secp112r1</td>\n",
       "      <td>False</td>\n",
       "      <td>112</td>\n",
       "      <td>1</td>\n",
       "    </tr>\n",
       "    <tr>\n",
       "      <th>1</th>\n",
       "      <td>secp112r2</td>\n",
       "      <td>False</td>\n",
       "      <td>112</td>\n",
       "      <td>4</td>\n",
       "    </tr>\n",
       "    <tr>\n",
       "      <th>2</th>\n",
       "      <td>secp128r1</td>\n",
       "      <td>False</td>\n",
       "      <td>128</td>\n",
       "      <td>1</td>\n",
       "    </tr>\n",
       "    <tr>\n",
       "      <th>3</th>\n",
       "      <td>secp128r2</td>\n",
       "      <td>False</td>\n",
       "      <td>128</td>\n",
       "      <td>4</td>\n",
       "    </tr>\n",
       "    <tr>\n",
       "      <th>4</th>\n",
       "      <td>secp160k1</td>\n",
       "      <td>False</td>\n",
       "      <td>160</td>\n",
       "      <td>1</td>\n",
       "    </tr>\n",
       "    <tr>\n",
       "      <th>...</th>\n",
       "      <td>...</td>\n",
       "      <td>...</td>\n",
       "      <td>...</td>\n",
       "      <td>...</td>\n",
       "    </tr>\n",
       "    <tr>\n",
       "      <th>203</th>\n",
       "      <td>wap-wsg-idm-ecid-wtls8</td>\n",
       "      <td>False</td>\n",
       "      <td>112</td>\n",
       "      <td>1</td>\n",
       "    </tr>\n",
       "    <tr>\n",
       "      <th>204</th>\n",
       "      <td>wap-wsg-idm-ecid-wtls9</td>\n",
       "      <td>False</td>\n",
       "      <td>160</td>\n",
       "      <td>1</td>\n",
       "    </tr>\n",
       "    <tr>\n",
       "      <th>205</th>\n",
       "      <td>wap-wsg-idm-ecid-wtls10</td>\n",
       "      <td>False</td>\n",
       "      <td>233</td>\n",
       "      <td>4</td>\n",
       "    </tr>\n",
       "    <tr>\n",
       "      <th>206</th>\n",
       "      <td>wap-wsg-idm-ecid-wtls11</td>\n",
       "      <td>False</td>\n",
       "      <td>233</td>\n",
       "      <td>2</td>\n",
       "    </tr>\n",
       "    <tr>\n",
       "      <th>207</th>\n",
       "      <td>wap-wsg-idm-ecid-wtls12</td>\n",
       "      <td>False</td>\n",
       "      <td>224</td>\n",
       "      <td>1</td>\n",
       "    </tr>\n",
       "  </tbody>\n",
       "</table>\n",
       "<p>208 rows × 4 columns</p>\n",
       "</div>"
      ],
      "text/plain": [
       "                       curve  simulated  bitlength cofactor\n",
       "0                  secp112r1      False        112        1\n",
       "1                  secp112r2      False        112        4\n",
       "2                  secp128r1      False        128        1\n",
       "3                  secp128r2      False        128        4\n",
       "4                  secp160k1      False        160        1\n",
       "..                       ...        ...        ...      ...\n",
       "203   wap-wsg-idm-ecid-wtls8      False        112        1\n",
       "204   wap-wsg-idm-ecid-wtls9      False        160        1\n",
       "205  wap-wsg-idm-ecid-wtls10      False        233        4\n",
       "206  wap-wsg-idm-ecid-wtls11      False        233        2\n",
       "207  wap-wsg-idm-ecid-wtls12      False        224        1\n",
       "\n",
       "[208 rows x 4 columns]"
      ]
     },
     "execution_count": 20,
     "metadata": {},
     "output_type": "execute_result"
    }
   ],
   "source": [
    "curves"
   ]
  },
  {
   "cell_type": "markdown",
   "metadata": {},
   "source": [
    "## Playground"
   ]
  }
 ],
 "metadata": {
  "kernelspec": {
   "display_name": "dissectenv",
   "language": "python",
   "name": "dissectenv"
  },
  "language_info": {
   "codemirror_mode": {
    "name": "ipython",
    "version": 3
   },
   "file_extension": ".py",
   "mimetype": "text/x-python",
   "name": "python",
   "nbconvert_exporter": "python",
   "pygments_lexer": "ipython3",
   "version": "3.8.5"
  }
 },
 "nbformat": 4,
 "nbformat_minor": 4
}
