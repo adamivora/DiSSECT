{
 "cells": [
  {
   "cell_type": "markdown",
   "metadata": {},
   "source": [
    "# DiSSECT Playground"
   ]
  },
  {
   "cell_type": "code",
   "execution_count": null,
   "metadata": {},
   "outputs": [],
   "source": [
    "# Import dependencies\n",
    "from dissect.analysis.data_processing import load_curves, load_trait, find_outliers, flatten_trait\n",
    "from dissect.analysis.visualization import violin, multiplot, normalized_barplot, normalized_bubbleplot"
   ]
  },
  {
   "cell_type": "code",
   "execution_count": null,
   "metadata": {},
   "outputs": [],
   "source": [
    "# Define your data source or use the default\n",
    "SOURCE = 'https://dissect.crocs.fi.muni.cz/static/data/'"
   ]
  },
  {
   "cell_type": "code",
   "execution_count": null,
   "metadata": {},
   "outputs": [],
   "source": [
    "# Load curves\n",
    "curves_source = load_curves(SOURCE)\n",
    "curves_source"
   ]
  },
  {
   "cell_type": "code",
   "execution_count": null,
   "metadata": {},
   "outputs": [],
   "source": [
    "# Filter curves\n",
    "curves = curves_source.copy()\n",
    "curves = curves[curves[\"bitlength\"] == 192] # Filter curves with bitlength 224\n",
    "curves = curves[curves[\"cofactor\"] == 1] # Filter curves with cofactor 1\n",
    "# curves = curves[curves[\"curve\"].str.contains(\"x962\")] # Filter curves simulated with x962 method\n",
    "curves = curves[(curves[\"category\"].isin([\"secg\",\"brainpool_sim_192\"]))]\n",
    "curves.reset_index(inplace=True, drop=True)\n",
    "curves"
   ]
  },
  {
   "cell_type": "code",
   "execution_count": null,
   "metadata": {},
   "outputs": [],
   "source": [
    "# Load trait results\n",
    "trait_source = load_trait(SOURCE, \"a06\") # Select trait\n",
    "trait_source"
   ]
  },
  {
   "cell_type": "code",
   "execution_count": null,
   "metadata": {},
   "outputs": [],
   "source": [
    "# Filter trait results\n",
    "trait = curves.merge(trait_source, \"inner\", on=\"curve\", copy=True)\n",
    "trait = trait[trait[\"deg\"].isin([2,3])] # Select params\n",
    "trait.reset_index(inplace=True, drop=True)\n",
    "trait"
   ]
  },
  {
   "cell_type": "code",
   "execution_count": null,
   "metadata": {},
   "outputs": [],
   "source": [
    "# prepare for barplot\n",
    "trait2 = trait[trait[\"deg\"]==2]\n",
    "trait3 = trait[trait[\"deg\"]==3]\n",
    "graphs = multiplot(1,2,height=5,width=10)\n",
    "feature = \"least\"\n",
    "for results, graph in zip([trait2,trait3],graphs):\n",
    "    std,sim = results[results[\"standard\"]==True], results[results[\"standard\"]==False]\n",
    "    normalized_barplot(std[[feature]],sim[[feature]],graph)"
   ]
  },
  {
   "cell_type": "code",
   "execution_count": null,
   "metadata": {},
   "outputs": [],
   "source": [
    "# prepare for bubbleplot\n",
    "trait2 = trait[trait[\"deg\"]==2]\n",
    "trait3 = trait[trait[\"deg\"]==3]\n",
    "graphs = multiplot(1,2,height=5,width=10)\n",
    "features = (\"least\",\"full\")\n",
    "for results, graph in zip([trait2,trait3],graphs):\n",
    "    std,sim = results[results[\"standard\"]==True], results[results[\"standard\"]==False]\n",
    "    normalized_bubbleplot(std[[*features]],sim[[*features]],graph)"
   ]
  },
  {
   "cell_type": "code",
   "execution_count": null,
   "metadata": {},
   "outputs": [],
   "source": [
    "# prepare for bubbleplot\n",
    "std = trait[trait[\"standard\"]==True][[\"curve\",\"deg\",\"ratio_sqrt\"]]\n",
    "sim = trait[trait[\"standard\"]==False][[\"curve\",\"deg\",\"ratio_sqrt\"]]\n",
    "std = flatten_trait(\"a06\",std,[2,3]).drop([\"curve\"],1)\n",
    "sim = flatten_trait(\"a06\",sim,[2,3]).drop([\"curve\"],1)\n",
    "normalized_bubbleplot(std,sim)"
   ]
  },
  {
   "cell_type": "code",
   "execution_count": null,
   "metadata": {},
   "outputs": [],
   "source": [
    "violin(trait, \"ratio_sqrt\")"
   ]
  },
  {
   "cell_type": "code",
   "execution_count": null,
   "metadata": {},
   "outputs": [],
   "source": [
    "find_outliers(trait, [\"least\", \"full\"])"
   ]
  }
 ],
 "metadata": {
  "kernelspec": {
   "display_name": "dissectenv",
   "language": "python",
   "name": "dissectenv"
  },
  "language_info": {
   "codemirror_mode": {
    "name": "ipython",
    "version": 3
   },
   "file_extension": ".py",
   "mimetype": "text/x-python",
   "name": "python",
   "nbconvert_exporter": "python",
   "pygments_lexer": "ipython3",
   "version": "3.8.5"
  }
 },
 "nbformat": 4,
 "nbformat_minor": 5
}
