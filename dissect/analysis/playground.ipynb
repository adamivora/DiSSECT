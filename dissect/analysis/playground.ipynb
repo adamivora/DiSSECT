{
 "cells": [
  {
   "cell_type": "markdown",
   "id": "6be43168",
   "metadata": {},
   "source": [
    "# DiSSECT Playground"
   ]
  },
  {
   "cell_type": "code",
   "execution_count": null,
   "id": "164fd066",
   "metadata": {},
   "outputs": [],
   "source": [
    "# Import dependencies\n",
    "from dissect.analysis.data_processing import load_curves, load_trait, find_outliers\n",
    "from dissect.analysis.visualization import violin"
   ]
  },
  {
   "cell_type": "code",
   "execution_count": null,
   "id": "053dea6c",
   "metadata": {},
   "outputs": [],
   "source": [
    "# Define your data source or use the default\n",
    "SOURCE = 'https://dissect.crocs.fi.muni.cz/static/data/'"
   ]
  },
  {
   "cell_type": "code",
   "execution_count": null,
   "id": "0ad93184",
   "metadata": {},
   "outputs": [],
   "source": [
    "# Load curves\n",
    "curves_source = load_curves(SOURCE)\n",
    "curves_source"
   ]
  },
  {
   "cell_type": "code",
   "execution_count": null,
   "id": "cf3cffca",
   "metadata": {},
   "outputs": [],
   "source": [
    "# Filter curves\n",
    "curves = curves_source.copy()\n",
    "curves = curves[curves[\"bitlength\"] == 224] # Filter curves with bitlength 224\n",
    "curves = curves[curves[\"cofactor\"] == 1] # Filter curves with cofactor 1\n",
    "# curves = curves[curves[\"curve\"].str.contains(\"x962\")] # Filter curves simulated with x962 method\n",
    "curves.reset_index(inplace=True, drop=True)\n",
    "curves"
   ]
  },
  {
   "cell_type": "code",
   "execution_count": null,
   "id": "64ef4dd0",
   "metadata": {},
   "outputs": [],
   "source": [
    "# Load trait results\n",
    "trait_source = load_trait(SOURCE, \"a05\") # Select trait\n",
    "trait_source"
   ]
  },
  {
   "cell_type": "code",
   "execution_count": null,
   "id": "97627efd",
   "metadata": {},
   "outputs": [],
   "source": [
    "# Filter trait results\n",
    "trait = curves.merge(trait_source, \"inner\", on=\"curve\", copy=True)\n",
    "trait = trait[trait[\"l\"] == 5] # Select params\n",
    "trait.reset_index(inplace=True, drop=True)\n",
    "trait"
   ]
  },
  {
   "cell_type": "code",
   "execution_count": null,
   "id": "7e1d83b0",
   "metadata": {},
   "outputs": [],
   "source": [
    "violin(trait, \"least\")"
   ]
  },
  {
   "cell_type": "code",
   "execution_count": null,
   "id": "634b7575",
   "metadata": {},
   "outputs": [],
   "source": [
    "find_outliers(trait, [\"least\", \"full\"])"
   ]
  }
 ],
 "metadata": {
  "kernelspec": {
   "display_name": "Python 3",
   "language": "python",
   "name": "python3"
  },
  "language_info": {
   "codemirror_mode": {
    "name": "ipython",
    "version": 3
   },
   "file_extension": ".py",
   "mimetype": "text/x-python",
   "name": "python",
   "nbconvert_exporter": "python",
   "pygments_lexer": "ipython3",
   "version": "3.9.5"
  }
 },
 "nbformat": 4,
 "nbformat_minor": 5
}
