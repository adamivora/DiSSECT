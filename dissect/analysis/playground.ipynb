{
 "cells": [
  {
   "cell_type": "markdown",
   "id": "62fbf6a9",
   "metadata": {},
   "source": [
    "# DiSSECT Playground"
   ]
  },
  {
   "cell_type": "code",
   "execution_count": null,
   "id": "63c72d13",
   "metadata": {},
   "outputs": [],
   "source": [
    "# Import dependencies\n",
    "from dissect.analysis.data_processing import get_curves, get_trait, find_outliers, flatten_trait\n",
    "from dissect.analysis.visualization import violin, multiplot, normalized_barplot, normalized_bubbleplot"
   ]
  },
  {
   "cell_type": "code",
   "execution_count": null,
   "id": "589e13a4",
   "metadata": {},
   "outputs": [],
   "source": [
    "# Define your data source or use the default\n",
    "SOURCE = 'https://dissect.crocs.fi.muni.cz/'"
   ]
  },
  {
   "cell_type": "code",
   "execution_count": null,
   "id": "a2a07921",
   "metadata": {},
   "outputs": [],
   "source": [
    "# Define filtering query\n",
    "query = {\n",
    "    # Curve filters\n",
    "    \"bits\": 224,\n",
    "    \"cofactor\": 1,\n",
    "    \"category\": [\"secg\", \"brainpool_sim_224\"],\n",
    "    # Trait params\n",
    "    \"deg\": [2, 3]\n",
    "}"
   ]
  },
  {
   "cell_type": "code",
   "execution_count": null,
   "id": "3c97c165",
   "metadata": {},
   "outputs": [],
   "source": [
    "# Load trait results\n",
    "trait = get_trait(SOURCE, \"a05\", query) # Select trait\n",
    "trait"
   ]
  },
  {
   "cell_type": "code",
   "execution_count": null,
   "id": "c622f166",
   "metadata": {},
   "outputs": [],
   "source": [
    "# prepare for barplot\n",
    "trait2 = trait[trait[\"l\"]==2]\n",
    "trait3 = trait[trait[\"l\"]==3]\n",
    "graphs = multiplot(1,2,height=5,width=10)\n",
    "feature = \"full\"\n",
    "for results, graph in zip([trait2,trait3],graphs):\n",
    "    std,sim = results[results[\"standard\"] == True], results[results[\"standard\"] == False]\n",
    "    normalized_barplot(std[[feature]], sim[[feature]], graph)"
   ]
  },
  {
   "cell_type": "code",
   "execution_count": null,
   "id": "75c1337f",
   "metadata": {},
   "outputs": [],
   "source": [
    "# prepare for bubbleplot\n",
    "trait2 = trait[trait[\"l\"]==3]\n",
    "trait3 = trait[trait[\"l\"]==5]\n",
    "graphs = multiplot(1, 2, height=5, width=10)\n",
    "features = (\"least\",\"full\")\n",
    "for results, graph in zip([trait2, trait3], graphs):\n",
    "    std, sim = results[results[\"standard\"] == True], results[results[\"standard\"] == False]\n",
    "    normalized_bubbleplot(std[[*features]], sim[[*features]], graph)"
   ]
  },
  {
   "cell_type": "code",
   "execution_count": null,
   "id": "54219709",
   "metadata": {},
   "outputs": [],
   "source": [
    "violin(trait, \"least\")"
   ]
  },
  {
   "cell_type": "code",
   "execution_count": null,
   "id": "88d6b746",
   "metadata": {},
   "outputs": [],
   "source": [
    "find_outliers(trait, [\"least\", \"full\"])"
   ]
  },
  {
   "cell_type": "code",
   "execution_count": null,
   "id": "fd753881",
   "metadata": {},
   "outputs": [],
   "source": []
  }
 ],
 "metadata": {
  "kernelspec": {
   "display_name": "Python 3",
   "language": "python",
   "name": "python3"
  },
  "language_info": {
   "codemirror_mode": {
    "name": "ipython",
    "version": 3
   },
   "file_extension": ".py",
   "mimetype": "text/x-python",
   "name": "python",
   "nbconvert_exporter": "python",
   "pygments_lexer": "ipython3",
   "version": "3.9.6"
  }
 },
 "nbformat": 4,
 "nbformat_minor": 5
}
