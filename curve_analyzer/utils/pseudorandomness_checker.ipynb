{
 "cells": [
  {
   "cell_type": "code",
   "execution_count": null,
   "metadata": {},
   "outputs": [],
   "source": [
    "#secp112r1, https://www.secg.org/SEC2-Ver-1.0.pdf page 13\n",
    "p = 0xDB7C2ABF62E35E668076BEAD208B\n",
    "a = 0xDB7C2ABF62E35E668076BEAD2088\n",
    "b = 0x659EF8BA043916EEDE8911702B22\n",
    "seed = '00F50B028E4D696E676875615175290472783FB1'\n",
    "r = generate_r(seed, p)\n",
    "print(verify_r(p, r, a, b))\n",
    "order = 0xDB7C2ABF62E35E7628DFAC6561C5\n",
    "E1 = EllipticCurve(GF(p),[a,b])\n",
    "print(E1.order() == order)\n",
    "# print(p.binary())\n",
    "# len('010100111100100100111100011011011111001010000011100000110110010110111000001111110111000001010110101101111001110')\n",
    "# len('1101101101111100001010101011111101100010111000110101111001100110100000000111011010111110101011010010000010001011')"
   ]
  },
  {
   "cell_type": "code",
   "execution_count": null,
   "metadata": {},
   "outputs": [],
   "source": [
    "# secp112r2\n",
    "p = 0xDB7C2ABF62E35E668076BEAD208B\n",
    "a = 0x6127C24C05F38A0AAAF65C0EF02C\n",
    "b = 0x51DEF1815DB5ED74FCC34C85D709\n",
    "seed = '002757A1114D696E6768756151755316C05E0BD4'\n",
    "r = generate_r(seed, p)\n",
    "print(verify_r(p, r, a, b))\n",
    "F = GF(p)\n",
    "print(hex(r))\n",
    "print(hex(F(a^3/b^2)))\n",
    "E2 = EllipticCurve(F,[a,b])\n",
    "print(E2.order() == 4 * 0x36DF0AAFD8B8D7597CA10520D04B)\n",
    "print(p.binary())"
   ]
  },
  {
   "cell_type": "code",
   "execution_count": null,
   "metadata": {},
   "outputs": [],
   "source": [
    "#192-bit, page 113 in http://citeseerx.ist.psu.edu/viewdoc/download?doi=10.1.1.202.2977&rep=rep1&type=pdf\n",
    "p = 6277101735386680763835789423207666416083908700390324961279\n",
    "seed = '3045AE6FC8422F64ED579528D38120EAE12196D5'\n",
    "a = 0xFFFFFFFFFFFFFFFFFFFFFFFFFFFFFFFEFFFFFFFFFFFFFFFC\n",
    "b = 0x64210519E59C80E70FA7E9AB72243049FEB8DEECC146B9B1\n",
    "r = generate_r(seed, p)\n",
    "r_exp = expected_r(p, a, b)\n",
    "F = GF(p)\n",
    "print(verify_r(p, r, a, b))\n",
    "print(b == get_b_from_r(r_exp, p))\n",
    "# print(p.binary())"
   ]
  },
  {
   "cell_type": "code",
   "execution_count": null,
   "metadata": {},
   "outputs": [],
   "source": [
    "#239-bit, page 114 in http://citeseerx.ist.psu.edu/viewdoc/download?doi=10.1.1.202.2977&rep=rep1&type=pdf\n",
    "p = 883423532389192164791648750360308885314476597252960362792450860609699839\n",
    "seed = 'E43BB460F0B80CC0C0B075798E948060F8321B7D'\n",
    "a = 0x7FFFFFFFFFFFFFFFFFFFFFFF7FFFFFFFFFFF8000000000007FFFFFFFFFFC\n",
    "b = 0x6B016C3BDCF18941D0D654921475CA71A9DB2FB27D1D37796185C2942C0A\n",
    "r = generate_r(seed, p)\n",
    "r_orig = 0x28B85EC1ECC19EFE769EB741A6D1BA29476AA5A8F2610957D6EFE78D3783\n",
    "#checks out if we don't unset the top bit of c0\n",
    "F = GF(p)\n",
    "print(hex(r))\n",
    "print(hex(F(a^3/b^2)))\n",
    "print(verify_r(p,r,a,b))\n",
    "print(verify_r(p,r_orig,a,b))"
   ]
  },
  {
   "cell_type": "code",
   "execution_count": null,
   "metadata": {},
   "outputs": [],
   "source": [
    "#secp256r1, page 22 in https://www.secg.org/SEC2-Ver-1.0.pdf (last bytes cannot be copied)\n",
    "p = 0xFFFFFFFF00000001000000000000000000000000FFFFFFFFFFFFFFFFFFFFFFFF\n",
    "a = 0xFFFFFFFF00000001000000000000000000000000FFFFFFFFFFFFFFFFFFFFFFFC\n",
    "b = 0x5AC635D8AA3A93E7B3EBBD55769886BC651D06B0CC53B0F63BCE3C3E27D2604B\n",
    "seed = 'C49D360886E704936A6678E1139D26B7819F7E90'\n",
    "#        'C49D360886E704936A6678E1139D26B7819F7E90'\n",
    "r = generate_r(seed, p)\n",
    "r_exp = expected_r(p, a, b)\n",
    "print(verify_r(p,r,a,b))\n",
    "F = GF(p)\n",
    "# print(format(r, '0256b'))\n",
    "# print(format(r_exp, '0256b'))\n",
    "E = EllipticCurve(F, [a,b])\n",
    "print(E.order() == 0xFFFFFFFF00000000FFFFFFFFFFFFFFFFBCE6FAADA7179E84F3B9CAC2FC632551)\n",
    "print(get_b_from_r(r, p))\n",
    "print(b)\n",
    "print(hex(F(-r)))"
   ]
  },
  {
   "cell_type": "code",
   "execution_count": null,
   "metadata": {},
   "outputs": [],
   "source": [
    "# hashlib.sha1(bytes.fromhex('616263')).hexdigest()"
   ]
  }
 ],
 "metadata": {
  "kernelspec": {
   "display_name": "SageMath 9.0",
   "language": "sage",
   "name": "sagemath"
  },
  "language_info": {
   "codemirror_mode": {
    "name": "ipython",
    "version": 3
   },
   "file_extension": ".py",
   "mimetype": "text/x-python",
   "name": "python",
   "nbconvert_exporter": "python",
   "pygments_lexer": "ipython3",
   "version": "3.7.3"
  }
 },
 "nbformat": 4,
 "nbformat_minor": 2
}
