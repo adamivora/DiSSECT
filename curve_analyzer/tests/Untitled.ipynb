{
 "cells": [
  {
   "cell_type": "code",
   "execution_count": 17,
   "metadata": {
    "scrolled": true
   },
   "outputs": [
    {
     "name": "stdout",
     "output_type": "stream",
     "text": [
      "Current datetime: 2020-07-22_15:22:13\n",
      "Running test a22 on 3 std curves and 0 sim curves with global parameters:\n",
      "{'l_range': [2, 3, 5, 7, 11, 13]}\n",
      "\n",
      "Processing curve secp112r1:\n",
      "\tProcessing params {'l': 2}.................................Already computed\n",
      "\tProcessing params {'l': 3}.................................Already computed\n",
      "\tProcessing params {'l': 5}.................................Already computed\n",
      "\tProcessing params {'l': 7}.................................Already computed\n",
      "\tProcessing params {'l': 11}................................Already computed\n",
      "\tProcessing params {'l': 13}................................Done\n",
      "Done, time elapsed: 0.0877840518951416\n",
      "\n",
      "Processing curve secp192r1:\n",
      "\tProcessing params {'l': 2}.................................Already computed\n",
      "\tProcessing params {'l': 3}.................................Already computed\n",
      "\tProcessing params {'l': 5}.................................Already computed\n",
      "\tProcessing params {'l': 7}.................................Already computed\n",
      "\tProcessing params {'l': 11}................................Already computed\n",
      "\tProcessing params {'l': 13}................................Done\n",
      "Done, time elapsed: 0.17289233207702637\n",
      "\n",
      "Processing curve secp256r1:\n",
      "\tProcessing params {'l': 2}.................................Already computed\n",
      "\tProcessing params {'l': 3}.................................Already computed\n",
      "\tProcessing params {'l': 5}.................................Already computed\n",
      "\tProcessing params {'l': 7}.................................Already computed\n",
      "\tProcessing params {'l': 11}................................Already computed\n",
      "\tProcessing params {'l': 13}................................Done\n",
      "Done, time elapsed: 0.25678515434265137\n",
      "\n",
      "................................................................................\n",
      "Finished, total time elapsed: 0.5174615383148193\n",
      "\n",
      "################################################################################\n",
      "\n",
      "\n"
     ]
    }
   ],
   "source": [
    "import a22.a22_division_pol_factorizations as a22\n",
    "import curve_analyzer.utils.curve_handler as c\n",
    "import curve_analyzer.definitions\n",
    "from importlib import reload\n",
    "from curve_analyzer.tests.test_interface import *\n",
    "from curve_analyzer.utils.json_handler import *\n",
    "reload(curve_analyzer.tests.test_interface)\n",
    "reload(a22)\n",
    "\n",
    "a22.compute_a22_results(curve_list =  c.curves_sample,l_max = 14, desc = \"\")"
   ]
  },
  {
   "cell_type": "code",
   "execution_count": null,
   "metadata": {},
   "outputs": [],
   "source": []
  }
 ],
 "metadata": {
  "kernelspec": {
   "display_name": "SageMath 9.0",
   "language": "sage",
   "name": "sagemath"
  },
  "language_info": {
   "codemirror_mode": {
    "name": "ipython",
    "version": 3
   },
   "file_extension": ".py",
   "mimetype": "text/x-python",
   "name": "python",
   "nbconvert_exporter": "python",
   "pygments_lexer": "ipython3",
   "version": "3.7.3"
  }
 },
 "nbformat": 4,
 "nbformat_minor": 2
}
