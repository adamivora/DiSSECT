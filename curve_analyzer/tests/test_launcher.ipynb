{
 "cells": [
  {
   "cell_type": "code",
   "execution_count": 1,
   "metadata": {},
   "outputs": [
    {
     "data": {
      "text/plain": [
       "<module 'curve_analyzer.tests.test_interface' from '/media/vlada/Storage/Research/curve_analyzer/curve_analyzer/tests/test_interface.py'>"
      ]
     },
     "execution_count": 1,
     "metadata": {},
     "output_type": "execute_result"
    }
   ],
   "source": [
    "import curve_analyzer.utils.curve_handler as c\n",
    "from a02.a02_cm_disc_factorizations import *\n",
    "from a04.a04_near_order_factorizations import *\n",
    "from a05.a05_torsion_extensions import *\n",
    "from a12.a12_orders_of_small_primes_modulo_curve_order import *\n",
    "from a22.a22_division_pol_factorizations import *\n",
    "from a24.a24_isogeny_extensions import *\n",
    "from a25.a25_trace_factorization import *\n",
    "from importlib import reload\n",
    "import curve_analyzer.definitions\n",
    "# from curve_analyzer.tests.test_interface import *\n",
    "import curve_analyzer.tests.test_interface as ti\n",
    "# reload(c)\n",
    "reload(curve_analyzer.tests.test_interface)\n",
    "# reload(curve_analyzer.definitions)"
   ]
  },
  {
   "cell_type": "code",
   "execution_count": 83,
   "metadata": {
    "collapsed": true
   },
   "outputs": [
    {
     "data": {
      "text/plain": [
       "PARI group [8, -1, 3, \"D(4)\"] of degree 4"
      ]
     },
     "execution_count": 83,
     "metadata": {},
     "output_type": "execute_result"
    }
   ],
   "source": [
    "K = NumberField(x^4  +5648564341634674647476345846347654763748564774681, 'theta')\n",
    "G = K.galois_group(type=\"pari\")\n",
    "H = G.group(); H\n",
    "# K.is_galois()\n",
    "# P = H.permutation_group(); P\n",
    "# sorted(P)"
   ]
  },
  {
   "cell_type": "code",
   "execution_count": 6,
   "metadata": {},
   "outputs": [
    {
     "name": "stdout",
     "output_type": "stream",
     "text": [
      "Processing curve secp112r1..................................Already computed\n",
      "Processing curve secp192r1..................................Already computed\n",
      "Processing curve secp256r1..................................Already computed\n",
      "..........................................................................................\n",
      "Finished, total time elapsed: 0"
     ]
    }
   ],
   "source": [
    "compute_a22_results(l_max = 11, curve_list = curves_sample, overwrite = True)"
   ]
  },
  {
   "cell_type": "code",
   "execution_count": 5,
   "metadata": {},
   "outputs": [
    {
     "name": "stdout",
     "output_type": "stream",
     "text": [
      "+-----------+-------+\n",
      "| parameter | value |\n",
      "+-----------+-------+\n",
      "|   l_max   |   12  |\n",
      "+-----------+-------+ \n",
      "\n",
      "\n",
      "+-----------------+------+-----------------------------------------------------------+\n",
      "|       name      | bits | Number of irreducible factors of l-th division polynomial |\n",
      "+-----------------+------+-----------------------------------------------------------+\n",
      "|    secp112r2    | 110  |                        Not computed                       |\n",
      "|    secp112r1    | 112  |                      [1, 1, 3, 5, 1]                      |\n",
      "|    secp128r2    | 126  |                        Not computed                       |\n",
      "|    secp128r1    | 128  |                        Not computed                       |\n",
      "|       mnt1      | 156  |                        Not computed                       |\n",
      "|      bn158      | 158  |                        Not computed                       |\n",
      "|      mnt2/1     | 159  |                        Not computed                       |\n",
      "|      mnt2/2     | 159  |                        Not computed                       |\n",
      "| brainpoolP160r1 | 160  |                        Not computed                       |\n",
      "| brainpoolP160t1 | 160  |                        Not computed                       |\n",
      "|      mnt3/1     | 160  |                        Not computed                       |\n",
      "|      mnt3/2     | 160  |                        Not computed                       |\n",
      "|      mnt3/3     | 160  |                        Not computed                       |\n",
      "|    secp160k1    | 161  |                        Not computed                       |\n",
      "|    secp160r1    | 161  |                        Not computed                       |\n",
      "|    secp160r2    | 161  |                        Not computed                       |\n",
      "|    sect163r1    | 162  |                        Not computed                       |\n",
      "|      B-163      | 163  |                        Not computed                       |\n",
      "|      K-163      | 163  |                        Not computed                       |\n",
      "|    sect163k1    | 163  |                        Not computed                       |\n",
      "|    sect163r2    | 163  |                        Not computed                       |\n",
      "|      bn190      | 190  |                        Not computed                       |\n",
      "|      P-192      | 192  |                        Not computed                       |\n",
      "| brainpoolP192r1 | 192  |                        Not computed                       |\n",
      "| brainpoolP192t1 | 192  |                        Not computed                       |\n",
      "|    prime192v1   | 192  |                        Not computed                       |\n",
      "|    prime192v2   | 192  |                        Not computed                       |\n",
      "|    prime192v3   | 192  |                        Not computed                       |\n",
      "|    secp192k1    | 192  |                        Not computed                       |\n",
      "|    secp192r1    | 192  |                      [1, 1, 2, 1, 2]                      |\n",
      "|    Curve22103   | 218  |                        Not computed                       |\n",
      "|      M-221      | 219  |                        Not computed                       |\n",
      "|      E-222      | 220  |                        Not computed                       |\n",
      "|      bn222      | 222  |                        Not computed                       |\n",
      "|    Curve4417    | 224  |                        Not computed                       |\n",
      "|     Fp224BN     | 224  |                        Not computed                       |\n",
      "|      P-224      | 224  |                        Not computed                       |\n",
      "| brainpoolP224r1 | 224  |                        Not computed                       |\n",
      "| brainpoolP224t1 | 224  |                        Not computed                       |\n",
      "|    secp224r1    | 224  |                        Not computed                       |\n",
      "|    secp224k1    | 225  |                        Not computed                       |\n",
      "|      K-233      | 232  |                        Not computed                       |\n",
      "|    sect233k1    | 232  |                        Not computed                       |\n",
      "|      B-233      | 233  |                        Not computed                       |\n",
      "|    sect233r1    | 233  |                        Not computed                       |\n",
      "|    sect239k1    | 238  |                        Not computed                       |\n",
      "|    prime239v1   | 239  |                        Not computed                       |\n",
      "|    prime239v2   | 239  |                        Not computed                       |\n",
      "|    prime239v3   | 239  |                        Not computed                       |\n",
      "|       mnt4      | 240  |                        Not computed                       |\n",
      "|      mnt5/1     | 240  |                        Not computed                       |\n",
      "|      mnt5/2     | 240  |                        Not computed                       |\n",
      "|      mnt5/3     | 240  |                        Not computed                       |\n",
      "|    Curve1174    | 249  |                        Not computed                       |\n",
      "|    Curve25519   | 253  |                        Not computed                       |\n",
      "|     Ed25519     | 253  |                        Not computed                       |\n",
      "|     Fp254BNa    | 254  |                        Not computed                       |\n",
      "|     Fp254BNb    | 254  |                        Not computed                       |\n",
      "|      bn254      | 254  |                        Not computed                       |\n",
      "|    BLS12-381    | 255  |                        Not computed                       |\n",
      "|     FRP256v1    | 256  |                        Not computed                       |\n",
      "|     Fp256BN     | 256  |                        Not computed                       |\n",
      "|      P-256      | 256  |                        Not computed                       |\n",
      "| brainpoolP256r1 | 256  |                        Not computed                       |\n",
      "| brainpoolP256t1 | 256  |                        Not computed                       |\n",
      "|     gost256     | 256  |                        Not computed                       |\n",
      "|    prime256v1   | 256  |                        Not computed                       |\n",
      "|    secp256k1    | 256  |                        Not computed                       |\n",
      "|    secp256r1    | 256  |                      [1, 2, 4, 3, 12]                     |\n",
      "|      K-283      | 281  |                        Not computed                       |\n",
      "|    sect283k1    | 281  |                        Not computed                       |\n",
      "|      B-283      | 282  |                        Not computed                       |\n",
      "|    sect283r1    | 282  |                        Not computed                       |\n",
      "|      bn286      | 286  |                        Not computed                       |\n",
      "|    BLS12-446    | 299  |                        Not computed                       |\n",
      "|    BLS12-455    | 305  |                        Not computed                       |\n",
      "|      bn318      | 318  |                        Not computed                       |\n",
      "| brainpoolP320r1 | 320  |                        Not computed                       |\n",
      "| brainpoolP320t1 | 320  |                        Not computed                       |\n",
      "|      bn350      | 350  |                        Not computed                       |\n",
      "|    Curve67254   | 380  |                        Not computed                       |\n",
      "|      M-383      | 381  |                        Not computed                       |\n",
      "|      bn382      | 382  |                        Not computed                       |\n",
      "|    BLS24-477    | 383  |                        Not computed                       |\n",
      "|     Fp384BN     | 384  |                        Not computed                       |\n",
      "|      P-384      | 384  |                        Not computed                       |\n",
      "| brainpoolP384r1 | 384  |                        Not computed                       |\n",
      "| brainpoolP384t1 | 384  |                        Not computed                       |\n",
      "|    secp384r1    | 384  |                        Not computed                       |\n",
      "|      K-409      | 407  |                        Not computed                       |\n",
      "|    sect409k1    | 407  |                        Not computed                       |\n",
      "|      B-409      | 409  |                        Not computed                       |\n",
      "|    sect409r1    | 409  |                        Not computed                       |\n",
      "|      bn414      | 414  |                        Not computed                       |\n",
      "|    BLS12-638    | 427  |                        Not computed                       |\n",
      "|      Ed448      | 446  |                        Not computed                       |\n",
      "|      bn446      | 446  |                        Not computed                       |\n",
      "|      bn478      | 478  |                        Not computed                       |\n",
      "|      M-511      | 509  |                        Not computed                       |\n",
      "|      bn510      | 510  |                        Not computed                       |\n",
      "|     gost512     | 511  |                        Not computed                       |\n",
      "|     Fp512BN     | 512  |                        Not computed                       |\n",
      "| brainpoolP512r1 | 512  |                        Not computed                       |\n",
      "| brainpoolP512t1 | 512  |                        Not computed                       |\n",
      "|      P-521      | 521  |                        Not computed                       |\n",
      "|    secp521r1    | 521  |                        Not computed                       |\n",
      "|      bn542      | 542  |                        Not computed                       |\n",
      "|      B-571      | 570  |                        Not computed                       |\n",
      "|      K-571      | 570  |                        Not computed                       |\n",
      "|    sect571k1    | 570  |                        Not computed                       |\n",
      "|    sect571r1    | 570  |                        Not computed                       |\n",
      "|      bn574      | 574  |                        Not computed                       |\n",
      "|      bn606      | 606  |                        Not computed                       |\n",
      "|      bn638      | 638  |                        Not computed                       |\n",
      "+-----------------+------+-----------------------------------------------------------+\n"
     ]
    }
   ],
   "source": [
    "# pretty_print_a22_results(True)\n",
    "pretty_print_results('a22', [['lens']], ['Number of irreducible factors of l-th division polynomial'], save_to_txt = True, res_sort_key = lambda x: 1, parameters = {'l_max': 12})"
   ]
  },
  {
   "cell_type": "code",
   "execution_count": 4,
   "metadata": {},
   "outputs": [],
   "source": [
    "infile, _, _, outfile = init_test('a22')\n",
    "results = load_from_json(infile)"
   ]
  },
  {
   "cell_type": "code",
   "execution_count": 5,
   "metadata": {},
   "outputs": [
    {
     "data": {
      "text/plain": [
       "[[{'l_max': 11},\n",
       "  {'degs_list': [[3], [4], [4, 4, 4], [3, 3, 6, 6, 6]], 'lens': [1, 1, 3, 5]}],\n",
       " [{'l_max': 12},\n",
       "  {'degs_list': [[3], [4], [4, 4, 4], [3, 3, 6, 6, 6], [60]],\n",
       "   'lens': [1, 1, 3, 5, 1]}]]"
      ]
     },
     "execution_count": 5,
     "metadata": {},
     "output_type": "execute_result"
    }
   ],
   "source": [
    "list(results.values())[0]"
   ]
  },
  {
   "cell_type": "code",
   "execution_count": 6,
   "metadata": {},
   "outputs": [
    {
     "data": {
      "text/plain": [
       "['secp112r1', 'secp192r1', 'secp256r1']"
      ]
     },
     "execution_count": 6,
     "metadata": {},
     "output_type": "execute_result"
    }
   ],
   "source": [
    "list(results.keys())"
   ]
  },
  {
   "cell_type": "code",
   "execution_count": 7,
   "metadata": {},
   "outputs": [
    {
     "data": {
      "text/plain": [
       "[[{'l_max': 11},\n",
       "  {'degs_list': [[3], [4], [4, 4, 4], [3, 3, 6, 6, 6]], 'lens': [1, 1, 3, 5]}],\n",
       " [{'l_max': 12},\n",
       "  {'degs_list': [[3], [4], [4, 4, 4], [3, 3, 6, 6, 6], [60]],\n",
       "   'lens': [1, 1, 3, 5, 1]}]]"
      ]
     },
     "execution_count": 7,
     "metadata": {},
     "output_type": "execute_result"
    }
   ],
   "source": [
    "results['secp112r1']"
   ]
  },
  {
   "cell_type": "code",
   "execution_count": 22,
   "metadata": {},
   "outputs": [
    {
     "name": "stdout",
     "output_type": "stream",
     "text": [
      "0 {'l_max': 11}\n",
      "1 {'l_max': 12}\n"
     ]
    }
   ],
   "source": [
    "index = 0\n",
    "for i, pair in enumerate(list(results.values())[0]):\n",
    "    print(i, pair[0])"
   ]
  },
  {
   "cell_type": "code",
   "execution_count": 12,
   "metadata": {},
   "outputs": [
    {
     "data": {
      "text/plain": [
       "'Wed Jun 24 00:00:00 2020'"
      ]
     },
     "execution_count": 12,
     "metadata": {},
     "output_type": "execute_result"
    }
   ],
   "source": [
    "# import datetime\n",
    "import time\n",
    "from datetime import date\n",
    "date.today().ctime()\n",
    "# datetime.now()\n"
   ]
  },
  {
   "cell_type": "code",
   "execution_count": 14,
   "metadata": {},
   "outputs": [
    {
     "data": {
      "text/plain": [
       "'Wed Jun 24 00:00:00 2020'"
      ]
     },
     "execution_count": 14,
     "metadata": {},
     "output_type": "execute_result"
    }
   ],
   "source": [
    "date.fromtimestamp(time.time()).ctime()"
   ]
  },
  {
   "cell_type": "code",
   "execution_count": 16,
   "metadata": {
    "collapsed": true
   },
   "outputs": [
    {
     "ename": "AttributeError",
     "evalue": "module 'datetime' has no attribute 'now'",
     "output_type": "error",
     "traceback": [
      "\u001b[1;31m---------------------------------------------------------------------------\u001b[0m",
      "\u001b[1;31mAttributeError\u001b[0m                            Traceback (most recent call last)",
      "\u001b[1;32m<ipython-input-16-303321cc44a3>\u001b[0m in \u001b[0;36m<module>\u001b[1;34m()\u001b[0m\n\u001b[1;32m----> 1\u001b[1;33m \u001b[0mdatetime\u001b[0m\u001b[1;33m.\u001b[0m\u001b[0mnow\u001b[0m\u001b[1;33m(\u001b[0m\u001b[1;33m)\u001b[0m\u001b[1;33m\u001b[0m\u001b[1;33m\u001b[0m\u001b[0m\n\u001b[0m",
      "\u001b[1;31mAttributeError\u001b[0m: module 'datetime' has no attribute 'now'"
     ]
    }
   ],
   "source": [
    "datetime.now()"
   ]
  },
  {
   "cell_type": "code",
   "execution_count": 4,
   "metadata": {},
   "outputs": [
    {
     "data": {
      "text/plain": [
       "<module 'curve_analyzer.tests.test_interface' from '/media/vlada/Storage/Research/curve_analyzer/tests/test_interface.py'>"
      ]
     },
     "execution_count": 4,
     "metadata": {},
     "output_type": "execute_result"
    }
   ],
   "source": [
    "reload(curve_analyzer.tests.test_interface)"
   ]
  },
  {
   "cell_type": "code",
   "execution_count": null,
   "metadata": {},
   "outputs": [],
   "source": []
  }
 ],
 "metadata": {
  "kernelspec": {
   "display_name": "SageMath 9.0",
   "language": "sage",
   "name": "sagemath"
  },
  "language_info": {
   "codemirror_mode": {
    "name": "ipython",
    "version": 3
   },
   "file_extension": ".py",
   "mimetype": "text/x-python",
   "name": "python",
   "nbconvert_exporter": "python",
   "pygments_lexer": "ipython3",
   "version": "3.7.3"
  }
 },
 "nbformat": 4,
 "nbformat_minor": 2
}
