{
 "cells": [
  {
   "cell_type": "markdown",
   "metadata": {},
   "source": [
    "# Analysis of A05 results"
   ]
  },
  {
   "cell_type": "markdown",
   "metadata": {},
   "source": [
    "## Data loading"
   ]
  },
  {
   "cell_type": "code",
   "execution_count": null,
   "metadata": {},
   "outputs": [],
   "source": [
    "from curve_analyzer.utils.data_processing import load_curves, load_trait, filter_df\n",
    "curves = load_curves() # load all curves\n",
    "df_a05 = load_trait(\"a05\") # load all results for trait a05\n",
    "df_a05 = df_a05.merge(curves, \"left\", \"curve\") # join curve metadata to trait results"
   ]
  },
  {
   "cell_type": "markdown",
   "metadata": {},
   "source": [
    "## Data filtering"
   ]
  },
  {
   "cell_type": "code",
   "execution_count": null,
   "metadata": {},
   "outputs": [],
   "source": [
    "import difflib\n",
    "import ipywidgets as widgets\n",
    "from ipywidgets import interact, interactive, HBox, VBox\n",
    "from curve_analyzer.definitions import STD_SOURCES, STD_BITLENGTHS, ALL_COFACTORS\n",
    "\n",
    "style = {'description_width': 'initial'}\n",
    "\n",
    "def multi_checkbox_widget(preselected, others):\n",
    "    \"\"\" Inspired by from https://gist.github.com/pbugnion/5bb7878ff212a0116f0f1fbc9f431a5c \"\"\"\n",
    "    \"\"\" Widget with a search field and lots of checkboxes \"\"\"\n",
    "    \n",
    "    # Get rid of overlapping elements and convert everything to strings, but sort numerically when possible\n",
    "    others_strings = list(map(str, set(others)-set(preselected)))\n",
    "    try:\n",
    "        others = sorted(others_strings, key=int)\n",
    "    except ValueError:\n",
    "        others = sorted(others_strings)\n",
    "    preselected = list(map(str, preselected))\n",
    "    \n",
    "    search_widget = widgets.Text(layout=widgets.Layout(width=\"auto\"))\n",
    "    options_dict = {**{description: widgets.Checkbox(description=description, value=True) for description in preselected},\n",
    "                    **{description: widgets.Checkbox(description=description, value=False) for description in others}}\n",
    "    all_descriptions = preselected + others\n",
    "    options = [options_dict[description] for description in all_descriptions]\n",
    "    options_widget = widgets.VBox(options, layout=widgets.Layout(overflow='scroll', width=\"auto\"))\n",
    "    multi_select = widgets.VBox([search_widget, options_widget], layout=widgets.Layout(width=\"auto\"))\n",
    "\n",
    "    # Wire the search field to the checkboxes\n",
    "    def on_text_change(change):\n",
    "        search_input = change['new']\n",
    "        if search_input == '':\n",
    "            # Reset search field\n",
    "            new_options = [options_dict[description] for description in all_descriptions]\n",
    "        else:\n",
    "            # Filter by search field using difflib.\n",
    "            close_matches = difflib.get_close_matches(search_input, all_descriptions, cutoff=0.0)\n",
    "            new_options = [options_dict[description] for description in close_matches]\n",
    "        options_widget.children = new_options\n",
    "\n",
    "    search_widget.observe(on_text_change, names='value')\n",
    "    return multi_select\n",
    "\n",
    "source_choice = multi_checkbox_widget(preselected=[\"std\", \"sim\"], others=STD_SOURCES)\n",
    "bitlength_choice = multi_checkbox_widget(preselected=[128, 160, 192, 224, 256 ], others=STD_BITLENGTHS)\n",
    "cofactor_choice = multi_checkbox_widget(preselected=[1], others=ALL_COFACTORS)\n",
    "l_choice = multi_checkbox_widget(preselected=[2], others=[2, 3, 5, 7])\n",
    "\n",
    "choices = [source_choice, bitlength_choice, cofactor_choice, l_choice]\n",
    "HBox(choices, layout=widgets.Layout(justify_content='space-around', height='250px'))"
   ]
  },
  {
   "cell_type": "markdown",
   "metadata": {},
   "source": [
    "## Data inspection"
   ]
  },
  {
   "cell_type": "code",
   "execution_count": null,
   "metadata": {},
   "outputs": [],
   "source": [
    "def get_results(choices):\n",
    "    for choice in choices:\n",
    "        yield [w.description for w in choice.children[1].children if w.value]\n",
    "\n",
    "sources, bitlengths, cofactors, ls = get_results(choices)\n",
    "df = filter_df(df_a05, bitlengths=bitlengths, sources=sources, cofactors=cofactors)\n",
    "df = df[df[\"l\"].isin(ls)]\n",
    "df"
   ]
  },
  {
   "cell_type": "code",
   "execution_count": null,
   "metadata": {},
   "outputs": [],
   "source": [
    "df.agg(set) # display only distinct values"
   ]
  },
  {
   "cell_type": "code",
   "execution_count": null,
   "metadata": {},
   "outputs": [],
   "source": [
    "df[\"bitlength\"]"
   ]
  },
  {
   "cell_type": "code",
   "execution_count": null,
   "metadata": {},
   "outputs": [],
   "source": [
    "df.bitlength"
   ]
  },
  {
   "cell_type": "code",
   "execution_count": null,
   "metadata": {},
   "outputs": [],
   "source": [
    "df.describe()"
   ]
  },
  {
   "cell_type": "markdown",
   "metadata": {},
   "source": [
    "## Data visualization"
   ]
  },
  {
   "cell_type": "code",
   "execution_count": null,
   "metadata": {},
   "outputs": [],
   "source": [
    "from curve_analyzer.utils.visualization import normalized_barplot, normalized_bubbleplot"
   ]
  },
  {
   "cell_type": "code",
   "execution_count": null,
   "metadata": {},
   "outputs": [],
   "source": [
    "for column in (\"least\", \"full\"):\n",
    "    normalized_barplot(df, column, title=f\"Normalized barplot of {column}\")"
   ]
  },
  {
   "cell_type": "code",
   "execution_count": null,
   "metadata": {},
   "outputs": [],
   "source": [
    "for l in ls:\n",
    "    normalized_bubbleplot(df[df[\"l\"] == l], f\"least\", f\"full\", title=f\"Normalized bubble plot for l={l}\")"
   ]
  },
  {
   "cell_type": "markdown",
   "metadata": {},
   "source": [
    "## Playground"
   ]
  },
  {
   "cell_type": "code",
   "execution_count": null,
   "metadata": {},
   "outputs": [],
   "source": [
    "sorted([\"ab\",\"ac\"], key=int)"
   ]
  },
  {
   "cell_type": "code",
   "execution_count": null,
   "metadata": {},
   "outputs": [],
   "source": [
    "sorted(['mnt', 'wtls', 'nums', 'x962', 'x963', 'bn', 'nist', 'oscaa', 'other', 'bls', 'anssi', 'secg', 'gost', 'brainpool', 'oakley'])"
   ]
  },
  {
   "cell_type": "code",
   "execution_count": null,
   "metadata": {},
   "outputs": [],
   "source": []
  }
 ],
 "metadata": {
  "kernelspec": {
   "display_name": "Python 3",
   "language": "python",
   "name": "python3"
  },
  "language_info": {
   "codemirror_mode": {
    "name": "ipython",
    "version": 3
   },
   "file_extension": ".py",
   "mimetype": "text/x-python",
   "name": "python",
   "nbconvert_exporter": "python",
   "pygments_lexer": "ipython3",
   "version": "3.7.3"
  }
 },
 "nbformat": 4,
 "nbformat_minor": 4
}
