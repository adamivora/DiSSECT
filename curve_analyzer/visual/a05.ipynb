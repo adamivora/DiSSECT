{
 "cells": [
  {
   "cell_type": "markdown",
   "metadata": {},
   "source": [
    "# Analysis of A05 results"
   ]
  },
  {
   "cell_type": "markdown",
   "metadata": {},
   "source": [
    "## Data loading"
   ]
  },
  {
   "cell_type": "code",
   "execution_count": 1,
   "metadata": {},
   "outputs": [
    {
     "name": "stdout",
     "output_type": "stream",
     "text": [
      "Database(MongoClient(host=['localhost:27017'], document_class=dict, tz_aware=False, connect=True), 'dissect')\n"
     ]
    },
    {
     "ename": "OperationFailure",
     "evalue": "Unrecognized pipeline stage name: '$unset', full error: {'ok': 0.0, 'errmsg': \"Unrecognized pipeline stage name: '$unset'\", 'code': 40324, 'codeName': 'Location40324'}",
     "output_type": "error",
     "traceback": [
      "\u001B[0;31m---------------------------------------------------------------------------\u001B[0m",
      "\u001B[0;31mOperationFailure\u001B[0m                          Traceback (most recent call last)",
      "\u001B[0;32m<ipython-input-1-a6c55d13fd4d>\u001B[0m in \u001B[0;36m<module>\u001B[0;34m()\u001B[0m\n\u001B[1;32m      1\u001B[0m \u001B[0;32mfrom\u001B[0m \u001B[0mcurve_analyzer\u001B[0m\u001B[0;34m.\u001B[0m\u001B[0mutils\u001B[0m\u001B[0;34m.\u001B[0m\u001B[0mdata_processing\u001B[0m \u001B[0;32mimport\u001B[0m \u001B[0mload_curves\u001B[0m\u001B[0;34m,\u001B[0m \u001B[0mload_trait\u001B[0m\u001B[0;34m\u001B[0m\u001B[0;34m\u001B[0m\u001B[0m\n\u001B[0;32m----> 2\u001B[0;31m \u001B[0mcurves\u001B[0m \u001B[0;34m=\u001B[0m \u001B[0mload_curves\u001B[0m\u001B[0;34m(\u001B[0m\u001B[0;34m)\u001B[0m \u001B[0;31m# load all curves\u001B[0m\u001B[0;34m\u001B[0m\u001B[0;34m\u001B[0m\u001B[0m\n\u001B[0m\u001B[1;32m      3\u001B[0m \u001B[0;31m# df = load_trait(\"a05\") # load all results for trait a05\u001B[0m\u001B[0;34m\u001B[0m\u001B[0;34m\u001B[0m\u001B[0;34m\u001B[0m\u001B[0m\n\u001B[1;32m      4\u001B[0m \u001B[0;31m# df = df.merge(curves, \"left\", \"curve\") # join curve metadata to trait results\u001B[0m\u001B[0;34m\u001B[0m\u001B[0;34m\u001B[0m\u001B[0;34m\u001B[0m\u001B[0m\n",
      "\u001B[0;32m/media/x408178/Storage/Research/curve_analyzer/curve_analyzer/utils/data_processing.py\u001B[0m in \u001B[0;36mload_curves\u001B[0;34m(filters)\u001B[0m\n\u001B[1;32m     29\u001B[0m         \u001B[0;32mreturn\u001B[0m \u001B[0mprojection\u001B[0m\u001B[0;34m\u001B[0m\u001B[0;34m\u001B[0m\u001B[0m\n\u001B[1;32m     30\u001B[0m \u001B[0;34m\u001B[0m\u001B[0m\n\u001B[0;32m---> 31\u001B[0;31m     \u001B[0mdf\u001B[0m \u001B[0;34m=\u001B[0m \u001B[0mpd\u001B[0m\u001B[0;34m.\u001B[0m\u001B[0mDataFrame\u001B[0m\u001B[0;34m(\u001B[0m\u001B[0mmap\u001B[0m\u001B[0;34m(\u001B[0m\u001B[0mproject\u001B[0m\u001B[0;34m,\u001B[0m \u001B[0mdatabase\u001B[0m\u001B[0;34m.\u001B[0m\u001B[0mget_curves\u001B[0m\u001B[0;34m(\u001B[0m\u001B[0mdb\u001B[0m\u001B[0;34m,\u001B[0m \u001B[0mfilters\u001B[0m\u001B[0;34m,\u001B[0m \u001B[0mraw\u001B[0m\u001B[0;34m=\u001B[0m\u001B[0;32mTrue\u001B[0m\u001B[0;34m)\u001B[0m\u001B[0;34m)\u001B[0m\u001B[0;34m)\u001B[0m\u001B[0;34m\u001B[0m\u001B[0;34m\u001B[0m\u001B[0m\n\u001B[0m\u001B[1;32m     32\u001B[0m     \u001B[0;32mreturn\u001B[0m \u001B[0mdf\u001B[0m\u001B[0;34m\u001B[0m\u001B[0;34m\u001B[0m\u001B[0m\n",
      "\u001B[0;32m/media/x408178/Storage/Research/curve_analyzer/curve_analyzer/utils/database_handler.py\u001B[0m in \u001B[0;36mget_curves\u001B[0;34m(db, filters, raw)\u001B[0m\n\u001B[1;32m    103\u001B[0m     cursor = db.curves.aggregate([\n\u001B[1;32m    104\u001B[0m         \u001B[0;34m{\u001B[0m \u001B[0;34m\"$unset\"\u001B[0m\u001B[0;34m:\u001B[0m \u001B[0;34m\"_id\"\u001B[0m \u001B[0;34m}\u001B[0m\u001B[0;34m,\u001B[0m\u001B[0;34m\u001B[0m\u001B[0;34m\u001B[0m\u001B[0m\n\u001B[0;32m--> 105\u001B[0;31m         \u001B[0;34m{\u001B[0m \u001B[0;34m\"$match\"\u001B[0m\u001B[0;34m:\u001B[0m \u001B[0mcurve_filter\u001B[0m \u001B[0;34m}\u001B[0m\u001B[0;34m\u001B[0m\u001B[0;34m\u001B[0m\u001B[0m\n\u001B[0m\u001B[1;32m    106\u001B[0m     ])\n\u001B[1;32m    107\u001B[0m \u001B[0;34m\u001B[0m\u001B[0m\n",
      "\u001B[0;32m/opt/SageMath/local/lib/python3.7/site-packages/pymongo/collection.py\u001B[0m in \u001B[0;36maggregate\u001B[0;34m(self, pipeline, session, **kwargs)\u001B[0m\n\u001B[1;32m   2456\u001B[0m                                    \u001B[0msession\u001B[0m\u001B[0;34m=\u001B[0m\u001B[0ms\u001B[0m\u001B[0;34m,\u001B[0m\u001B[0;34m\u001B[0m\u001B[0;34m\u001B[0m\u001B[0m\n\u001B[1;32m   2457\u001B[0m                                    \u001B[0mexplicit_session\u001B[0m\u001B[0;34m=\u001B[0m\u001B[0msession\u001B[0m \u001B[0;32mis\u001B[0m \u001B[0;32mnot\u001B[0m \u001B[0;32mNone\u001B[0m\u001B[0;34m,\u001B[0m\u001B[0;34m\u001B[0m\u001B[0;34m\u001B[0m\u001B[0m\n\u001B[0;32m-> 2458\u001B[0;31m                                    **kwargs)\n\u001B[0m\u001B[1;32m   2459\u001B[0m \u001B[0;34m\u001B[0m\u001B[0m\n\u001B[1;32m   2460\u001B[0m     \u001B[0;32mdef\u001B[0m \u001B[0maggregate_raw_batches\u001B[0m\u001B[0;34m(\u001B[0m\u001B[0mself\u001B[0m\u001B[0;34m,\u001B[0m \u001B[0mpipeline\u001B[0m\u001B[0;34m,\u001B[0m \u001B[0;34m**\u001B[0m\u001B[0mkwargs\u001B[0m\u001B[0;34m)\u001B[0m\u001B[0;34m:\u001B[0m\u001B[0;34m\u001B[0m\u001B[0;34m\u001B[0m\u001B[0m\n",
      "\u001B[0;32m/opt/SageMath/local/lib/python3.7/site-packages/pymongo/collection.py\u001B[0m in \u001B[0;36m_aggregate\u001B[0;34m(self, aggregation_command, pipeline, cursor_class, session, explicit_session, **kwargs)\u001B[0m\n\u001B[1;32m   2375\u001B[0m         return self.__database.client._retryable_read(\n\u001B[1;32m   2376\u001B[0m             \u001B[0mcmd\u001B[0m\u001B[0;34m.\u001B[0m\u001B[0mget_cursor\u001B[0m\u001B[0;34m,\u001B[0m \u001B[0mcmd\u001B[0m\u001B[0;34m.\u001B[0m\u001B[0mget_read_preference\u001B[0m\u001B[0;34m(\u001B[0m\u001B[0msession\u001B[0m\u001B[0;34m)\u001B[0m\u001B[0;34m,\u001B[0m \u001B[0msession\u001B[0m\u001B[0;34m,\u001B[0m\u001B[0;34m\u001B[0m\u001B[0;34m\u001B[0m\u001B[0m\n\u001B[0;32m-> 2377\u001B[0;31m             retryable=not cmd._performs_write)\n\u001B[0m\u001B[1;32m   2378\u001B[0m \u001B[0;34m\u001B[0m\u001B[0m\n\u001B[1;32m   2379\u001B[0m     \u001B[0;32mdef\u001B[0m \u001B[0maggregate\u001B[0m\u001B[0;34m(\u001B[0m\u001B[0mself\u001B[0m\u001B[0;34m,\u001B[0m \u001B[0mpipeline\u001B[0m\u001B[0;34m,\u001B[0m \u001B[0msession\u001B[0m\u001B[0;34m=\u001B[0m\u001B[0;32mNone\u001B[0m\u001B[0;34m,\u001B[0m \u001B[0;34m**\u001B[0m\u001B[0mkwargs\u001B[0m\u001B[0;34m)\u001B[0m\u001B[0;34m:\u001B[0m\u001B[0;34m\u001B[0m\u001B[0;34m\u001B[0m\u001B[0m\n",
      "\u001B[0;32m/opt/SageMath/local/lib/python3.7/site-packages/pymongo/mongo_client.py\u001B[0m in \u001B[0;36m_retryable_read\u001B[0;34m(self, func, read_pref, session, address, retryable, exhaust)\u001B[0m\n\u001B[1;32m   1469\u001B[0m                         \u001B[0;31m# not support retryable reads, raise the last error.\u001B[0m\u001B[0;34m\u001B[0m\u001B[0;34m\u001B[0m\u001B[0;34m\u001B[0m\u001B[0m\n\u001B[1;32m   1470\u001B[0m                         \u001B[0;32mraise\u001B[0m \u001B[0mlast_error\u001B[0m\u001B[0;34m\u001B[0m\u001B[0;34m\u001B[0m\u001B[0m\n\u001B[0;32m-> 1471\u001B[0;31m                     \u001B[0;32mreturn\u001B[0m \u001B[0mfunc\u001B[0m\u001B[0;34m(\u001B[0m\u001B[0msession\u001B[0m\u001B[0;34m,\u001B[0m \u001B[0mserver\u001B[0m\u001B[0;34m,\u001B[0m \u001B[0msock_info\u001B[0m\u001B[0;34m,\u001B[0m \u001B[0mslave_ok\u001B[0m\u001B[0;34m)\u001B[0m\u001B[0;34m\u001B[0m\u001B[0;34m\u001B[0m\u001B[0m\n\u001B[0m\u001B[1;32m   1472\u001B[0m             \u001B[0;32mexcept\u001B[0m \u001B[0mServerSelectionTimeoutError\u001B[0m\u001B[0;34m:\u001B[0m\u001B[0;34m\u001B[0m\u001B[0;34m\u001B[0m\u001B[0m\n\u001B[1;32m   1473\u001B[0m                 \u001B[0;32mif\u001B[0m \u001B[0mretrying\u001B[0m\u001B[0;34m:\u001B[0m\u001B[0;34m\u001B[0m\u001B[0;34m\u001B[0m\u001B[0m\n",
      "\u001B[0;32m/opt/SageMath/local/lib/python3.7/site-packages/pymongo/aggregation.py\u001B[0m in \u001B[0;36mget_cursor\u001B[0;34m(self, session, server, sock_info, slave_ok)\u001B[0m\n\u001B[1;32m    146\u001B[0m             \u001B[0msession\u001B[0m\u001B[0;34m=\u001B[0m\u001B[0msession\u001B[0m\u001B[0;34m,\u001B[0m\u001B[0;34m\u001B[0m\u001B[0;34m\u001B[0m\u001B[0m\n\u001B[1;32m    147\u001B[0m             \u001B[0mclient\u001B[0m\u001B[0;34m=\u001B[0m\u001B[0mself\u001B[0m\u001B[0;34m.\u001B[0m\u001B[0m_database\u001B[0m\u001B[0;34m.\u001B[0m\u001B[0mclient\u001B[0m\u001B[0;34m,\u001B[0m\u001B[0;34m\u001B[0m\u001B[0;34m\u001B[0m\u001B[0m\n\u001B[0;32m--> 148\u001B[0;31m             user_fields=self._user_fields)\n\u001B[0m\u001B[1;32m    149\u001B[0m \u001B[0;34m\u001B[0m\u001B[0m\n\u001B[1;32m    150\u001B[0m         \u001B[0mself\u001B[0m\u001B[0;34m.\u001B[0m\u001B[0m_process_result\u001B[0m\u001B[0;34m(\u001B[0m\u001B[0mresult\u001B[0m\u001B[0;34m,\u001B[0m \u001B[0msession\u001B[0m\u001B[0;34m,\u001B[0m \u001B[0mserver\u001B[0m\u001B[0;34m,\u001B[0m \u001B[0msock_info\u001B[0m\u001B[0;34m,\u001B[0m \u001B[0mslave_ok\u001B[0m\u001B[0;34m)\u001B[0m\u001B[0;34m\u001B[0m\u001B[0;34m\u001B[0m\u001B[0m\n",
      "\u001B[0;32m/opt/SageMath/local/lib/python3.7/site-packages/pymongo/pool.py\u001B[0m in \u001B[0;36mcommand\u001B[0;34m(self, dbname, spec, slave_ok, read_preference, codec_options, check, allowable_errors, check_keys, read_concern, write_concern, parse_write_concern_error, collation, session, client, retryable_write, publish_events, user_fields, exhaust_allowed)\u001B[0m\n\u001B[1;32m    692\u001B[0m                            \u001B[0munacknowledged\u001B[0m\u001B[0;34m=\u001B[0m\u001B[0munacknowledged\u001B[0m\u001B[0;34m,\u001B[0m\u001B[0;34m\u001B[0m\u001B[0;34m\u001B[0m\u001B[0m\n\u001B[1;32m    693\u001B[0m                            \u001B[0muser_fields\u001B[0m\u001B[0;34m=\u001B[0m\u001B[0muser_fields\u001B[0m\u001B[0;34m,\u001B[0m\u001B[0;34m\u001B[0m\u001B[0;34m\u001B[0m\u001B[0m\n\u001B[0;32m--> 694\u001B[0;31m                            exhaust_allowed=exhaust_allowed)\n\u001B[0m\u001B[1;32m    695\u001B[0m         \u001B[0;32mexcept\u001B[0m \u001B[0mOperationFailure\u001B[0m\u001B[0;34m:\u001B[0m\u001B[0;34m\u001B[0m\u001B[0;34m\u001B[0m\u001B[0m\n\u001B[1;32m    696\u001B[0m             \u001B[0;32mraise\u001B[0m\u001B[0;34m\u001B[0m\u001B[0;34m\u001B[0m\u001B[0m\n",
      "\u001B[0;32m/opt/SageMath/local/lib/python3.7/site-packages/pymongo/network.py\u001B[0m in \u001B[0;36mcommand\u001B[0;34m(sock_info, dbname, spec, slave_ok, is_mongos, read_preference, codec_options, session, client, check, allowable_errors, address, check_keys, listeners, max_bson_size, read_concern, parse_write_concern_error, collation, compression_ctx, use_op_msg, unacknowledged, user_fields, exhaust_allowed)\u001B[0m\n\u001B[1;32m    159\u001B[0m                 helpers._check_command_response(\n\u001B[1;32m    160\u001B[0m                     \u001B[0mresponse_doc\u001B[0m\u001B[0;34m,\u001B[0m \u001B[0msock_info\u001B[0m\u001B[0;34m.\u001B[0m\u001B[0mmax_wire_version\u001B[0m\u001B[0;34m,\u001B[0m \u001B[0mallowable_errors\u001B[0m\u001B[0;34m,\u001B[0m\u001B[0;34m\u001B[0m\u001B[0;34m\u001B[0m\u001B[0m\n\u001B[0;32m--> 161\u001B[0;31m                     parse_write_concern_error=parse_write_concern_error)\n\u001B[0m\u001B[1;32m    162\u001B[0m     \u001B[0;32mexcept\u001B[0m \u001B[0mException\u001B[0m \u001B[0;32mas\u001B[0m \u001B[0mexc\u001B[0m\u001B[0;34m:\u001B[0m\u001B[0;34m\u001B[0m\u001B[0;34m\u001B[0m\u001B[0m\n\u001B[1;32m    163\u001B[0m         \u001B[0;32mif\u001B[0m \u001B[0mpublish\u001B[0m\u001B[0;34m:\u001B[0m\u001B[0;34m\u001B[0m\u001B[0;34m\u001B[0m\u001B[0m\n",
      "\u001B[0;32m/opt/SageMath/local/lib/python3.7/site-packages/pymongo/helpers.py\u001B[0m in \u001B[0;36m_check_command_response\u001B[0;34m(response, max_wire_version, allowable_errors, parse_write_concern_error)\u001B[0m\n\u001B[1;32m    158\u001B[0m         \u001B[0;32mraise\u001B[0m \u001B[0mCursorNotFound\u001B[0m\u001B[0;34m(\u001B[0m\u001B[0merrmsg\u001B[0m\u001B[0;34m,\u001B[0m \u001B[0mcode\u001B[0m\u001B[0;34m,\u001B[0m \u001B[0mresponse\u001B[0m\u001B[0;34m,\u001B[0m \u001B[0mmax_wire_version\u001B[0m\u001B[0;34m)\u001B[0m\u001B[0;34m\u001B[0m\u001B[0;34m\u001B[0m\u001B[0m\n\u001B[1;32m    159\u001B[0m \u001B[0;34m\u001B[0m\u001B[0m\n\u001B[0;32m--> 160\u001B[0;31m     \u001B[0;32mraise\u001B[0m \u001B[0mOperationFailure\u001B[0m\u001B[0;34m(\u001B[0m\u001B[0merrmsg\u001B[0m\u001B[0;34m,\u001B[0m \u001B[0mcode\u001B[0m\u001B[0;34m,\u001B[0m \u001B[0mresponse\u001B[0m\u001B[0;34m,\u001B[0m \u001B[0mmax_wire_version\u001B[0m\u001B[0;34m)\u001B[0m\u001B[0;34m\u001B[0m\u001B[0;34m\u001B[0m\u001B[0m\n\u001B[0m\u001B[1;32m    161\u001B[0m \u001B[0;34m\u001B[0m\u001B[0m\n\u001B[1;32m    162\u001B[0m \u001B[0;34m\u001B[0m\u001B[0m\n",
      "\u001B[0;31mOperationFailure\u001B[0m: Unrecognized pipeline stage name: '$unset', full error: {'ok': 0.0, 'errmsg': \"Unrecognized pipeline stage name: '$unset'\", 'code': 40324, 'codeName': 'Location40324'}"
     ]
    }
   ],
   "source": [
    "from curve_analyzer.utils.data_processing import load_curves, load_trait\n",
    "curves = load_curves() # load all curves\n",
    "df = load_trait(\"a05\") # load all results for trait a05\n",
    "df = df.merge(curves, \"left\", \"curve\") # join curve metadata to trait results"
   ]
  },
  {
   "cell_type": "code",
   "execution_count": null,
   "metadata": {},
   "outputs": [],
   "source": [
    "df = df[df[\"bitlength\"] == 128] # filter out curves with bitlength 128\n",
    "# df = df[df[\"cofactor\"] == 1] # filter out curves with cofactor 1\n",
    "# df = df[df[\"l\"] == 3] # filter out only results for parameter l == 3"
   ]
  },
  {
   "cell_type": "markdown",
   "metadata": {},
   "source": [
    "## Data inspection"
   ]
  },
  {
   "cell_type": "code",
   "execution_count": 1,
   "metadata": {},
   "outputs": [
    {
     "ename": "NameError",
     "evalue": "name 'df' is not defined",
     "output_type": "error",
     "traceback": [
      "\u001B[0;31m---------------------------------------------------------------------------\u001B[0m",
      "\u001B[0;31mNameError\u001B[0m                                 Traceback (most recent call last)",
      "\u001B[0;32m<ipython-input-1-00cf07b74dcd>\u001B[0m in \u001B[0;36m<module>\u001B[0;34m()\u001B[0m\n\u001B[0;32m----> 1\u001B[0;31m \u001B[0mdf\u001B[0m\u001B[0;34m\u001B[0m\u001B[0;34m\u001B[0m\u001B[0m\n\u001B[0m",
      "\u001B[0;31mNameError\u001B[0m: name 'df' is not defined"
     ]
    }
   ],
   "source": [
    "df"
   ]
  },
  {
   "cell_type": "code",
   "execution_count": null,
   "metadata": {},
   "outputs": [],
   "source": [
    "df.agg(set) # display only distinct values"
   ]
  },
  {
   "cell_type": "code",
   "execution_count": null,
   "metadata": {},
   "outputs": [],
   "source": [
    "df.describe()"
   ]
  },
  {
   "cell_type": "markdown",
   "metadata": {},
   "source": [
    "## Data visualization"
   ]
  },
  {
   "cell_type": "code",
   "execution_count": null,
   "metadata": {},
   "outputs": [],
   "source": [
    "from curve_analyzer.utils.visualization import normalized_barplot, normalized_bubbleplot"
   ]
  },
  {
   "cell_type": "code",
   "execution_count": null,
   "metadata": {},
   "outputs": [],
   "source": [
    "for column in (\"least\", \"full\"):\n",
    "    normalized_barplot(df, column, title=f\"Normalized barplot of {column}\")"
   ]
  },
  {
   "cell_type": "code",
   "execution_count": null,
   "metadata": {},
   "outputs": [],
   "source": [
    "for l in (2, 3):\n",
    "    normalized_bubbleplot(df[df[\"l\"] == l], f\"least\", f\"full\", title=f\"Normalized bubble plot for l={l}\")"
   ]
  },
  {
   "cell_type": "markdown",
   "metadata": {},
   "source": [
    "## Playground"
   ]
  },
  {
   "cell_type": "code",
   "execution_count": null,
   "metadata": {},
   "outputs": [],
   "source": []
  }
 ],
 "metadata": {
  "kernelspec": {
   "display_name": "Python 3",
   "language": "python",
   "name": "python3"
  },
  "language_info": {
   "codemirror_mode": {
    "name": "ipython",
    "version": 3
   },
   "file_extension": ".py",
   "mimetype": "text/x-python",
   "name": "python",
   "nbconvert_exporter": "python",
   "pygments_lexer": "ipython3",
   "version": "3.7.3"
  }
 },
 "nbformat": 4,
 "nbformat_minor": 4
}