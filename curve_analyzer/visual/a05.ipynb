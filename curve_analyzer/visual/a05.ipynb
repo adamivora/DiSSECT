{
 "cells": [
  {
   "cell_type": "markdown",
   "metadata": {},
   "source": [
    "# Analysis of A05 results"
   ]
  },
  {
   "cell_type": "markdown",
   "metadata": {},
   "source": [
    "## Data loading"
   ]
  },
  {
   "cell_type": "code",
   "execution_count": 1,
   "metadata": {},
   "outputs": [],
   "source": [
    "from curve_analyzer.utils.data_processing import load_curves, load_trait, filter_df\n",
    "curves = load_curves() # load all curves\n",
    "df_a05 = load_trait(\"a05\") # load all results for trait a05\n",
    "df_a05 = df_a05.merge(curves, \"left\", \"curve\") # join curve metadata to trait results"
   ]
  },
  {
   "cell_type": "code",
   "execution_count": 7,
   "metadata": {},
   "outputs": [],
   "source": [
    "df = filter_df(df_a05, bitlength=256, cofactor=1)\n",
    "df = df[df[\"l\"] == 3] # filter out only results for parameter l == 3"
   ]
  },
  {
   "cell_type": "markdown",
   "metadata": {},
   "source": [
    "## Data inspection"
   ]
  },
  {
   "cell_type": "code",
   "execution_count": 8,
   "metadata": {},
   "outputs": [
    {
     "data": {
      "text/html": [
       "<div>\n",
       "<style scoped>\n",
       "    .dataframe tbody tr th:only-of-type {\n",
       "        vertical-align: middle;\n",
       "    }\n",
       "\n",
       "    .dataframe tbody tr th {\n",
       "        vertical-align: top;\n",
       "    }\n",
       "\n",
       "    .dataframe thead th {\n",
       "        text-align: right;\n",
       "    }\n",
       "</style>\n",
       "<table border=\"1\" class=\"dataframe\">\n",
       "  <thead>\n",
       "    <tr style=\"text-align: right;\">\n",
       "      <th></th>\n",
       "      <th>curve</th>\n",
       "      <th>l</th>\n",
       "      <th>least</th>\n",
       "      <th>full</th>\n",
       "      <th>relative</th>\n",
       "      <th>cofactor</th>\n",
       "      <th>bitlength</th>\n",
       "      <th>simulated</th>\n",
       "    </tr>\n",
       "  </thead>\n",
       "  <tbody>\n",
       "    <tr>\n",
       "      <th>8301</th>\n",
       "      <td>secp256r1</td>\n",
       "      <td>3</td>\n",
       "      <td>2.0</td>\n",
       "      <td>6.0</td>\n",
       "      <td>3.0</td>\n",
       "      <td>1</td>\n",
       "      <td>256.0</td>\n",
       "      <td>False</td>\n",
       "    </tr>\n",
       "    <tr>\n",
       "      <th>9113</th>\n",
       "      <td>x962_sim_256_seed_diff_1112118</td>\n",
       "      <td>3</td>\n",
       "      <td>2.0</td>\n",
       "      <td>6.0</td>\n",
       "      <td>3.0</td>\n",
       "      <td>1</td>\n",
       "      <td>256.0</td>\n",
       "      <td>True</td>\n",
       "    </tr>\n",
       "    <tr>\n",
       "      <th>9117</th>\n",
       "      <td>x962_sim_256_seed_diff_1273169</td>\n",
       "      <td>3</td>\n",
       "      <td>2.0</td>\n",
       "      <td>2.0</td>\n",
       "      <td>1.0</td>\n",
       "      <td>1</td>\n",
       "      <td>256.0</td>\n",
       "      <td>True</td>\n",
       "    </tr>\n",
       "    <tr>\n",
       "      <th>9121</th>\n",
       "      <td>x962_sim_256_seed_diff_1316428</td>\n",
       "      <td>3</td>\n",
       "      <td>4.0</td>\n",
       "      <td>4.0</td>\n",
       "      <td>1.0</td>\n",
       "      <td>1</td>\n",
       "      <td>256.0</td>\n",
       "      <td>True</td>\n",
       "    </tr>\n",
       "    <tr>\n",
       "      <th>9125</th>\n",
       "      <td>x962_sim_256_seed_diff_1320584</td>\n",
       "      <td>3</td>\n",
       "      <td>2.0</td>\n",
       "      <td>6.0</td>\n",
       "      <td>3.0</td>\n",
       "      <td>1</td>\n",
       "      <td>256.0</td>\n",
       "      <td>True</td>\n",
       "    </tr>\n",
       "    <tr>\n",
       "      <th>...</th>\n",
       "      <td>...</td>\n",
       "      <td>...</td>\n",
       "      <td>...</td>\n",
       "      <td>...</td>\n",
       "      <td>...</td>\n",
       "      <td>...</td>\n",
       "      <td>...</td>\n",
       "      <td>...</td>\n",
       "    </tr>\n",
       "    <tr>\n",
       "      <th>877269</th>\n",
       "      <td>brainpoolP256r1</td>\n",
       "      <td>3</td>\n",
       "      <td>8.0</td>\n",
       "      <td>8.0</td>\n",
       "      <td>1.0</td>\n",
       "      <td>1</td>\n",
       "      <td>256.0</td>\n",
       "      <td>False</td>\n",
       "    </tr>\n",
       "    <tr>\n",
       "      <th>877273</th>\n",
       "      <td>FRP256v1</td>\n",
       "      <td>3</td>\n",
       "      <td>8.0</td>\n",
       "      <td>8.0</td>\n",
       "      <td>1.0</td>\n",
       "      <td>1</td>\n",
       "      <td>256.0</td>\n",
       "      <td>False</td>\n",
       "    </tr>\n",
       "    <tr>\n",
       "      <th>877277</th>\n",
       "      <td>256-bit Random ECP Group</td>\n",
       "      <td>3</td>\n",
       "      <td>2.0</td>\n",
       "      <td>6.0</td>\n",
       "      <td>3.0</td>\n",
       "      <td>1</td>\n",
       "      <td>256.0</td>\n",
       "      <td>False</td>\n",
       "    </tr>\n",
       "    <tr>\n",
       "      <th>877281</th>\n",
       "      <td>Fp256BN</td>\n",
       "      <td>3</td>\n",
       "      <td>2.0</td>\n",
       "      <td>6.0</td>\n",
       "      <td>3.0</td>\n",
       "      <td>1</td>\n",
       "      <td>256.0</td>\n",
       "      <td>False</td>\n",
       "    </tr>\n",
       "    <tr>\n",
       "      <th>877285</th>\n",
       "      <td>numsp256d1</td>\n",
       "      <td>3</td>\n",
       "      <td>4.0</td>\n",
       "      <td>4.0</td>\n",
       "      <td>1.0</td>\n",
       "      <td>1</td>\n",
       "      <td>256.0</td>\n",
       "      <td>False</td>\n",
       "    </tr>\n",
       "  </tbody>\n",
       "</table>\n",
       "<p>8115 rows × 8 columns</p>\n",
       "</div>"
      ],
      "text/plain": [
       "                                 curve  l  least  full  relative cofactor  \\\n",
       "8301                         secp256r1  3    2.0   6.0       3.0        1   \n",
       "9113    x962_sim_256_seed_diff_1112118  3    2.0   6.0       3.0        1   \n",
       "9117    x962_sim_256_seed_diff_1273169  3    2.0   2.0       1.0        1   \n",
       "9121    x962_sim_256_seed_diff_1316428  3    4.0   4.0       1.0        1   \n",
       "9125    x962_sim_256_seed_diff_1320584  3    2.0   6.0       3.0        1   \n",
       "...                                ... ..    ...   ...       ...      ...   \n",
       "877269                 brainpoolP256r1  3    8.0   8.0       1.0        1   \n",
       "877273                        FRP256v1  3    8.0   8.0       1.0        1   \n",
       "877277        256-bit Random ECP Group  3    2.0   6.0       3.0        1   \n",
       "877281                         Fp256BN  3    2.0   6.0       3.0        1   \n",
       "877285                      numsp256d1  3    4.0   4.0       1.0        1   \n",
       "\n",
       "        bitlength simulated  \n",
       "8301        256.0     False  \n",
       "9113        256.0      True  \n",
       "9117        256.0      True  \n",
       "9121        256.0      True  \n",
       "9125        256.0      True  \n",
       "...           ...       ...  \n",
       "877269      256.0     False  \n",
       "877273      256.0     False  \n",
       "877277      256.0     False  \n",
       "877281      256.0     False  \n",
       "877285      256.0     False  \n",
       "\n",
       "[8115 rows x 8 columns]"
      ]
     },
     "execution_count": 8,
     "metadata": {},
     "output_type": "execute_result"
    }
   ],
   "source": [
    "df"
   ]
  },
  {
   "cell_type": "code",
   "execution_count": null,
   "metadata": {},
   "outputs": [],
   "source": [
    "df.agg(set) # display only distinct values"
   ]
  },
  {
   "cell_type": "code",
   "execution_count": null,
   "metadata": {},
   "outputs": [],
   "source": [
    "df.describe()"
   ]
  },
  {
   "cell_type": "markdown",
   "metadata": {},
   "source": [
    "## Data visualization"
   ]
  },
  {
   "cell_type": "code",
   "execution_count": null,
   "metadata": {},
   "outputs": [],
   "source": [
    "from curve_analyzer.utils.visualization import normalized_barplot, normalized_bubbleplot"
   ]
  },
  {
   "cell_type": "code",
   "execution_count": null,
   "metadata": {},
   "outputs": [],
   "source": [
    "for column in (\"least\", \"full\"):\n",
    "    normalized_barplot(df, column, title=f\"Normalized barplot of {column}\")"
   ]
  },
  {
   "cell_type": "code",
   "execution_count": null,
   "metadata": {},
   "outputs": [],
   "source": [
    "for l in (2, 3):\n",
    "    normalized_bubbleplot(df[df[\"l\"] == l], f\"least\", f\"full\", title=f\"Normalized bubble plot for l={l}\")"
   ]
  },
  {
   "cell_type": "markdown",
   "metadata": {},
   "source": [
    "## Playground"
   ]
  },
  {
   "cell_type": "code",
   "execution_count": null,
   "metadata": {},
   "outputs": [],
   "source": []
  }
 ],
 "metadata": {
  "kernelspec": {
   "display_name": "Python 3",
   "language": "python",
   "name": "python3"
  },
  "language_info": {
   "codemirror_mode": {
    "name": "ipython",
    "version": 3
   },
   "file_extension": ".py",
   "mimetype": "text/x-python",
   "name": "python",
   "nbconvert_exporter": "python",
   "pygments_lexer": "ipython3",
   "version": "3.7.3"
  }
 },
 "nbformat": 4,
 "nbformat_minor": 4
}
