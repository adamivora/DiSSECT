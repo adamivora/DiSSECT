{
 "cells": [
  {
   "cell_type": "markdown",
   "metadata": {},
   "source": [
    "# Analysis of A05 results"
   ]
  },
  {
   "cell_type": "markdown",
   "metadata": {},
   "source": [
    "## Data loading"
   ]
  },
  {
   "cell_type": "code",
   "execution_count": null,
   "metadata": {},
   "outputs": [],
   "source": [
    "from curve_analyzer.utils.data_processing import load_curves, load_trait, filter_df\n",
    "curves = load_curves() # load all curves\n",
    "df_a05 = load_trait(\"a05\") # load all results for trait a05\n",
    "df_a05 = df_a05.merge(curves, \"left\", \"curve\") # join curve metadata to trait results"
   ]
  },
  {
   "cell_type": "markdown",
   "metadata": {},
   "source": [
    "## Data filtering"
   ]
  },
  {
   "cell_type": "code",
   "execution_count": null,
   "metadata": {},
   "outputs": [],
   "source": [
    "import ipywidgets as widgets\n",
    "from ipywidgets import interact, interactive, HBox, VBox\n",
    "\n",
    "style = {'description_width': 'initial'}\n",
    "\n",
    "def bitlength_choice(bitlengths=widgets.SelectMultiple(\n",
    "        options=[112, 128, 160, 192, 224, 256],\n",
    "        value=[256],\n",
    "        description='bit length:',\n",
    "        layout=widgets.Layout(width='120px', height='120px')\n",
    "        )):\n",
    "    return bitlengths\n",
    "\n",
    "def l_choice(ls=widgets.SelectMultiple(\n",
    "        options=[2, 3, 5, 7],\n",
    "        value=[3],\n",
    "        description='l:',\n",
    "        layout=widgets.Layout(width='110px', height='auto'),\n",
    "        )):\n",
    "    return ls\n",
    "\n",
    "def max_cofactor_choice(max_cofactor=widgets.IntSlider(\n",
    "    min=1, max=100, step=1, value=1,\n",
    "    style=style,\n",
    "    description='max cofactor:'\n",
    "    )):\n",
    "    return max_cofactor\n",
    "\n",
    "chosen = list(map(interactive, [bitlength_choice, l_choice, max_cofactor_choice]))\n",
    "# [interactive(bitlength_choice), interactive(l_choice), in]\n",
    "HBox(chosen, layout=widgets.Layout(justify_content='space-evenly'))"
   ]
  },
  {
   "cell_type": "markdown",
   "metadata": {},
   "source": [
    "## Data inspection"
   ]
  },
  {
   "cell_type": "code",
   "execution_count": null,
   "metadata": {},
   "outputs": [],
   "source": [
    "bitlengths, ls, max_cofactor = [param.result for param in chosen]\n",
    "df = filter_df(df_a05, bitlength=bitlength, sources=[\"nist\"], max_cofactor=max_cofactor)\n",
    "df = df[df[\"l\"].isin(ls)]\n",
    "df"
   ]
  },
  {
   "cell_type": "code",
   "execution_count": null,
   "metadata": {},
   "outputs": [],
   "source": [
    "df.agg(set) # display only distinct values"
   ]
  },
  {
   "cell_type": "code",
   "execution_count": null,
   "metadata": {},
   "outputs": [],
   "source": [
    "df.describe()"
   ]
  },
  {
   "cell_type": "markdown",
   "metadata": {},
   "source": [
    "## Data visualization"
   ]
  },
  {
   "cell_type": "code",
   "execution_count": null,
   "metadata": {},
   "outputs": [],
   "source": [
    "from curve_analyzer.utils.visualization import normalized_barplot, normalized_bubbleplot"
   ]
  },
  {
   "cell_type": "code",
   "execution_count": null,
   "metadata": {},
   "outputs": [],
   "source": [
    "for column in (\"least\", \"full\"):\n",
    "    normalized_barplot(df, column, title=f\"Normalized barplot of {column}\")"
   ]
  },
  {
   "cell_type": "code",
   "execution_count": null,
   "metadata": {},
   "outputs": [],
   "source": [
    "for l in (2, 3):\n",
    "    normalized_bubbleplot(df[df[\"l\"] == l], f\"least\", f\"full\", title=f\"Normalized bubble plot for l={l}\")"
   ]
  },
  {
   "cell_type": "markdown",
   "metadata": {},
   "source": [
    "## Playground"
   ]
  },
  {
   "cell_type": "code",
   "execution_count": null,
   "metadata": {},
   "outputs": [],
   "source": []
  }
 ],
 "metadata": {
  "kernelspec": {
   "display_name": "Python 3",
   "language": "python",
   "name": "python3"
  },
  "language_info": {
   "codemirror_mode": {
    "name": "ipython",
    "version": 3
   },
   "file_extension": ".py",
   "mimetype": "text/x-python",
   "name": "python",
   "nbconvert_exporter": "python",
   "pygments_lexer": "ipython3",
   "version": "3.7.3"
  }
 },
 "nbformat": 4,
 "nbformat_minor": 4
}
