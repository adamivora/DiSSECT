{
 "cells": [
  {
   "cell_type": "code",
   "execution_count": 2,
   "metadata": {},
   "outputs": [],
   "source": [
    "import curve_handler\n"
   ]
  },
  {
   "cell_type": "code",
   "execution_count": 225,
   "metadata": {},
   "outputs": [],
   "source": [
    "import a05_torsion_extensions as a05"
   ]
  },
  {
   "cell_type": "code",
   "execution_count": 226,
   "metadata": {},
   "outputs": [
    {
     "data": {
      "text/plain": [
       "dict_keys(['secg', 'gost', 'bls', 'other', 'bn', 'brainpool', 'nist', 'mnt', 'x962', 'x962-sim-112', 'x962-sim-256', 'anssi'])"
      ]
     },
     "execution_count": 226,
     "metadata": {},
     "output_type": "execute_result"
    }
   ],
   "source": [
    "from importlib import reload  \n",
    "reload(a05_torsion_extensions)\n",
    "\n",
    "curve_handler.curve_db.keys()"
   ]
  },
  {
   "cell_type": "code",
   "execution_count": 227,
   "metadata": {},
   "outputs": [
    {
     "name": "stdout",
     "output_type": "stream",
     "text": [
      "27\n",
      "1\n",
      "done\n"
     ]
    }
   ],
   "source": [
    "curves = curve_handler.curve_db['secg']['curves']\n",
    "\n",
    "print(len(curves))\n",
    "\n",
    "for i in range(len(curves)):\n",
    "    c = curves[i]\n",
    "    Ec = curve_handler.CustomCurve(c)\n",
    "    res = a05.a5_curve_function(Ec,7)\n",
    "    if res['least']!=res['full']:\n",
    "        print(i)\n",
    "        break\n",
    "print(\"done\")"
   ]
  },
  {
   "cell_type": "code",
   "execution_count": 237,
   "metadata": {},
   "outputs": [
    {
     "data": {
      "text/plain": [
       "{'least': [3, 2, 24], 'full': [3, 6, 24], 'relative': [1, 3, 1]}"
      ]
     },
     "execution_count": 237,
     "metadata": {},
     "output_type": "execute_result"
    }
   ],
   "source": [
    "j=7\n",
    "#{'least': [3, 2, 6], 'full': [3, 6, 0], 'relative': [1, 3, 5]} muj\n",
    "#{'least': [3, 2, 6], 'full': [3, 6, 6], 'relative': [1, 3, 1]}\n",
    "res = a05.a5_curve_function(curve_handler.CustomCurve(curves[j]),7)\n",
    "res"
   ]
  },
  {
   "cell_type": "code",
   "execution_count": 223,
   "metadata": {},
   "outputs": [],
   "source": [
    "def eigenvalues(curve, l, s=1 ):\n",
    "    x = PolynomialRing(GF(l ** s), 'x').gen()\n",
    "    \n",
    "    q = curve.q\n",
    "    t = curve.trace\n",
    "    f = x ** 2  - t * x + q\n",
    "    return f.roots()"
   ]
  },
  {
   "cell_type": "code",
   "execution_count": 224,
   "metadata": {},
   "outputs": [
    {
     "name": "stdout",
     "output_type": "stream",
     "text": [
      "6\n",
      "6\n"
     ]
    },
    {
     "data": {
      "text/plain": [
       "[(3*z2 + 4, 1), (2*z2 + 2, 1)]"
      ]
     },
     "execution_count": 224,
     "metadata": {},
     "output_type": "execute_result"
    }
   ],
   "source": [
    "l = 5\n",
    "Ec =curve_handler.CustomCurve(curves[j]) \n",
    "E = Ec.EC\n",
    "for r in eigenvalues(Ec,l,s=2):\n",
    "    print(r[0].multiplicative_order())\n",
    "eigenvalues(Ec,l,s=2)"
   ]
  },
  {
   "cell_type": "code",
   "execution_count": 202,
   "metadata": {},
   "outputs": [
    {
     "data": {
      "text/plain": [
       "0"
      ]
     },
     "execution_count": 202,
     "metadata": {},
     "output_type": "execute_result"
    }
   ],
   "source": [
    "Ec.order*Ec.cofactor%4"
   ]
  },
  {
   "cell_type": "code",
   "execution_count": 236,
   "metadata": {},
   "outputs": [
    {
     "data": {
      "text/plain": [
       "{'name': 'secp192k1',\n",
       " 'category': 'secg',\n",
       " 'desc': '',\n",
       " 'oid': '1.3.132.0.31',\n",
       " 'field': {'type': 'Prime',\n",
       "  'p': '0xfffffffffffffffffffffffffffffffffffffffeffffee37',\n",
       "  'bits': 192},\n",
       " 'form': 'Weierstrass',\n",
       " 'params': {'a': '0x000000000000000000000000000000000000000000000000',\n",
       "  'b': '0x000000000000000000000000000000000000000000000003'},\n",
       " 'generator': {'x': '0xdb4ff10ec057e9ae26b07d0280b7f4341da5d1b1eae06c7d',\n",
       "  'y': '0x9b2f2f6d9c5628a7844163d015be86344082aa88d95e2f9d'},\n",
       " 'order': '0xfffffffffffffffffffffffe26f2fc170f69466a74defd8d',\n",
       " 'cofactor': '0x1',\n",
       " 'characteristics': {'discriminant': '6277101735386680763835789423207666416102355444459739537159',\n",
       "  'j_invariant': '0',\n",
       "  'trace_of_frobenius': '146402144145231529258894028971',\n",
       "  'embedding_degree': '3138550867693340381917894711530632135978561957600422756038',\n",
       "  'anomalous': False,\n",
       "  'supersingular': False,\n",
       "  'cm_disc': '25108406941546723055343157692684263520264190248580064135217',\n",
       "  'conductor': '1',\n",
       "  'torsion_degrees': [{'r': 2, 'least': 3, 'full': 3},\n",
       "   {'r': 3, 'least': 2, 'full': 6},\n",
       "   {'r': 5, 'least': 24, 'full': 24},\n",
       "   {'r': 7, 'least': 3, 'full': 3},\n",
       "   {'r': 11, 'least': 4, 'full': 4},\n",
       "   {'r': 13, 'least': 3, 'full': 12}]}}"
      ]
     },
     "execution_count": 236,
     "metadata": {},
     "output_type": "execute_result"
    }
   ],
   "source": [
    "curves[j]"
   ]
  },
  {
   "cell_type": "code",
   "execution_count": 60,
   "metadata": {},
   "outputs": [],
   "source": [
    "c = {'name': 'secp112r1',\n",
    " 'category': 'secg',\n",
    " 'desc': '',\n",
    " 'oid': '1.3.132.0.6',\n",
    " 'field': {'type': 'Prime',\n",
    "  'p': '0xdb7c2abf62e35e668076bead208b',\n",
    "  'bits': 112},\n",
    " 'form': 'Weierstrass',\n",
    " 'params': {'a': '0xdb7c2abf62e35e668076bead2088',\n",
    "  'b': '0x659ef8ba043916eede8911702b22'},\n",
    " 'generator': {'x': '0x09487239995a5ee76b55f9c2f098',\n",
    "  'y': '0xa89ce5af8724c0a23e0e0ff77500'},\n",
    " 'order': '0xdb7c2abf62e35e7628dfac6561c5',\n",
    " 'cofactor': '0x1',\n",
    " 'characteristics': {'discriminant': '431641039663814096123514803737201',\n",
    "  'j_invariant': '3522606870331875081851146801233610',\n",
    "  'trace_of_frobenius': '-4407293269000505',\n",
    "  'embedding_degree': '4451685225093714776491891542548932',\n",
    "  'anomalous': False,\n",
    "  'supersingular': False,\n",
    "  'cm_disc': '17806740900374859092745686363194213',\n",
    "  'conductor': '1',\n",
    "  'torsion_degrees': [{'r': 2, 'least': 3, 'full': 3},\n",
    "   {'r': 3, 'least': 8, 'full': 8},\n",
    "   {'r': 5, 'least': 8, 'full': 8},\n",
    "   {'r': 7, 'least': 3, 'full': 6},\n",
    "   {'r': 11, 'least': 120, 'full': 120},\n",
    "   {'r': 13, 'least': 24, 'full': 24},\n",
    "   {'r': 17, 'least': 8, 'full': 16},\n",
    "   {'r': 19, 'least': 360, 'full': 360}]}}\n",
    "\n",
    "c = curves[1]"
   ]
  },
  {
   "cell_type": "code",
   "execution_count": null,
   "metadata": {},
   "outputs": [],
   "source": []
  },
  {
   "cell_type": "code",
   "execution_count": 61,
   "metadata": {},
   "outputs": [
    {
     "data": {
      "text/plain": [
       "{'crater_degree': 2, 'depth': 0}"
      ]
     },
     "execution_count": 61,
     "metadata": {},
     "output_type": "execute_result"
    }
   ],
   "source": [
    "a23_curve_function(curve_handler.CustomCurve(c),2)"
   ]
  },
  {
   "cell_type": "code",
   "execution_count": 53,
   "metadata": {},
   "outputs": [
    {
     "data": {
      "text/plain": [
       "{'name': 'sect163k1',\n",
       " 'category': 'secg',\n",
       " 'desc': '',\n",
       " 'oid': '1.3.132.0.1',\n",
       " 'field': {'type': 'Binary',\n",
       "  'poly': {'m': 163, 'e1': 7, 'e2': 6, 'e3': 3},\n",
       "  'bits': 163},\n",
       " 'form': 'Weierstrass',\n",
       " 'params': {'a': '0x000000000000000000000000000000000000000001',\n",
       "  'b': '0x000000000000000000000000000000000000000001'},\n",
       " 'generator': {'x': '0x02fe13c0537bbc11acaa07d793de4e6d5e5c94eee8',\n",
       "  'y': '0x0289070fb05d38ff58321f2e800536d538ccdaa3d9'},\n",
       " 'order': '0x04000000000000000000020108a2e0cc0d99f8a5ef',\n",
       " 'cofactor': '0x2',\n",
       " 'aliases': ['nist/K-163'],\n",
       " 'characteristics': {'discriminant': '1',\n",
       "  'j_invariant': '1',\n",
       "  'trace_of_frobenius': '-4845466632539410776804317',\n",
       "  'anomalous': False,\n",
       "  'supersingular': False,\n",
       "  'cm_disc': '46768052394588893382517919492387689168400618179549',\n",
       "  'conductor': '1'}}"
      ]
     },
     "execution_count": 53,
     "metadata": {},
     "output_type": "execute_result"
    }
   ],
   "source": [
    "c"
   ]
  },
  {
   "cell_type": "code",
   "execution_count": 14,
   "metadata": {},
   "outputs": [
    {
     "name": "stdout",
     "output_type": "stream",
     "text": [
      "0\n",
      "1\n",
      "4\n",
      "1\n",
      "0\n",
      "1\n",
      "4\n"
     ]
    }
   ],
   "source": [
    "for i in range(7):\n",
    "    print(i^2%8)"
   ]
  },
  {
   "cell_type": "code",
   "execution_count": 47,
   "metadata": {},
   "outputs": [
    {
     "name": "stdout",
     "output_type": "stream",
     "text": [
      "secp112r1\n",
      "secp112r2\n",
      "secp128r1\n",
      "secp128r2\n",
      "secp160k1\n",
      "secp160r1\n",
      "secp160r2\n",
      "secp192k1\n",
      "secp192r1\n",
      "secp224k1\n",
      "secp224r1\n",
      "secp256k1\n",
      "secp256r1\n",
      "secp384r1\n",
      "secp521r1\n",
      "sect163k1\n",
      "sect163r1\n",
      "sect163r2\n",
      "sect233k1\n",
      "sect233r1\n",
      "sect239k1\n",
      "sect283k1\n",
      "sect283r1\n",
      "sect409k1\n",
      "sect409r1\n",
      "sect571k1\n",
      "sect571r1\n"
     ]
    }
   ],
   "source": [
    "for c in curve_handler.curve_db['secg']['curves']:\n",
    "    print(c['name'])"
   ]
  },
  {
   "cell_type": "code",
   "execution_count": 43,
   "metadata": {},
   "outputs": [],
   "source": [
    "Curves = curve_handler.curve_db['secg']['curves']"
   ]
  },
  {
   "cell_type": "code",
   "execution_count": 34,
   "metadata": {},
   "outputs": [
    {
     "data": {
      "text/plain": [
       "5"
      ]
     },
     "execution_count": 34,
     "metadata": {},
     "output_type": "execute_result"
    }
   ],
   "source": [
    "len(list(factor(curve_handler.CustomCurve(curves[0]).trace)))"
   ]
  },
  {
   "cell_type": "code",
   "execution_count": 35,
   "metadata": {},
   "outputs": [
    {
     "data": {
      "text/plain": [
       "{'name': 'secp112r1',\n",
       " 'category': 'secg',\n",
       " 'desc': '',\n",
       " 'oid': '1.3.132.0.6',\n",
       " 'field': {'type': 'Prime',\n",
       "  'p': '0xdb7c2abf62e35e668076bead208b',\n",
       "  'bits': 112},\n",
       " 'form': 'Weierstrass',\n",
       " 'params': {'a': '0xdb7c2abf62e35e668076bead2088',\n",
       "  'b': '0x659ef8ba043916eede8911702b22'},\n",
       " 'generator': {'x': '0x09487239995a5ee76b55f9c2f098',\n",
       "  'y': '0xa89ce5af8724c0a23e0e0ff77500'},\n",
       " 'order': '0xdb7c2abf62e35e7628dfac6561c5',\n",
       " 'cofactor': '0x1',\n",
       " 'characteristics': {'discriminant': '431641039663814096123514803737201',\n",
       "  'j_invariant': '3522606870331875081851146801233610',\n",
       "  'trace_of_frobenius': '-4407293269000505',\n",
       "  'embedding_degree': '4451685225093714776491891542548932',\n",
       "  'anomalous': False,\n",
       "  'supersingular': False,\n",
       "  'cm_disc': '17806740900374859092745686363194213',\n",
       "  'conductor': '1',\n",
       "  'torsion_degrees': [{'r': 2, 'least': 3, 'full': 3},\n",
       "   {'r': 3, 'least': 8, 'full': 8},\n",
       "   {'r': 5, 'least': 8, 'full': 8},\n",
       "   {'r': 7, 'least': 3, 'full': 6},\n",
       "   {'r': 11, 'least': 120, 'full': 120},\n",
       "   {'r': 13, 'least': 24, 'full': 24},\n",
       "   {'r': 17, 'least': 8, 'full': 16},\n",
       "   {'r': 19, 'least': 360, 'full': 360}]}}"
      ]
     },
     "execution_count": 35,
     "metadata": {},
     "output_type": "execute_result"
    }
   ],
   "source": [
    "curves[0]"
   ]
  },
  {
   "cell_type": "code",
   "execution_count": 39,
   "metadata": {},
   "outputs": [],
   "source": [
    "from a02_cm_disc_factorizations import *"
   ]
  },
  {
   "cell_type": "code",
   "execution_count": 47,
   "metadata": {},
   "outputs": [
    {
     "data": {
      "text/plain": [
       "{'cm_disc': -3147981784734289480448435252561803,\n",
       " 'factorization': [(2, 2), (23, 1), (136868773249316933932540663154861, 1)],\n",
       " 'max_conductor': 2}"
      ]
     },
     "execution_count": 47,
     "metadata": {},
     "output_type": "execute_result"
    }
   ],
   "source": [
    "a2_curve_function(curve_handler.CustomCurve(Curves[1]))"
   ]
  },
  {
   "cell_type": "code",
   "execution_count": 48,
   "metadata": {},
   "outputs": [
    {
     "data": {
      "text/plain": [
       "-1 * 2^2 * 23 * 136868773249316933932540663154861"
      ]
     },
     "execution_count": 48,
     "metadata": {},
     "output_type": "execute_result"
    }
   ],
   "source": [
    "EE = curve_handler.CustomCurve(Curves[1])\n",
    "t = EE.trace\n",
    "q = EE.q\n",
    "D = t^2-4*q\n",
    "factor(D)"
   ]
  },
  {
   "cell_type": "code",
   "execution_count": 50,
   "metadata": {},
   "outputs": [
    {
     "data": {
      "text/plain": [
       "3"
      ]
     },
     "execution_count": 50,
     "metadata": {},
     "output_type": "execute_result"
    }
   ],
   "source": [
    "(23 * 136868773249316933932540663154861)%4"
   ]
  },
  {
   "cell_type": "raw",
   "metadata": {},
   "source": [
    "Curves[1]"
   ]
  },
  {
   "cell_type": "code",
   "execution_count": 51,
   "metadata": {},
   "outputs": [
    {
     "data": {
      "text/plain": [
       "{'name': 'secp112r2',\n",
       " 'category': 'secg',\n",
       " 'desc': '',\n",
       " 'oid': '1.3.132.0.7',\n",
       " 'field': {'type': 'Prime',\n",
       "  'p': '0xdb7c2abf62e35e668076bead208b',\n",
       "  'bits': 112},\n",
       " 'form': 'Weierstrass',\n",
       " 'params': {'a': '0x6127c24c05f38a0aaaf65c0ef02c',\n",
       "  'b': '0x51def1815db5ed74fcc34c85d709'},\n",
       " 'generator': {'x': '0x4ba30ab5e892b4e1649dd0928643',\n",
       "  'y': '0xadcd46f5882e3747def36e956e97'},\n",
       " 'order': '0x36df0aafd8b8d7597ca10520d04b',\n",
       " 'cofactor': '0x4',\n",
       " 'characteristics': {'discriminant': '3350974381310990100142288157262754',\n",
       "  'j_invariant': '1815128745141690948653052996943564',\n",
       "  'trace_of_frobenius': '72213667414400864',\n",
       "  'embedding_degree': '370973768757809558322577571595630',\n",
       "  'anomalous': False,\n",
       "  'supersingular': False,\n",
       "  'cm_disc': '494631691677079417114575713327579',\n",
       "  'conductor': '6',\n",
       "  'torsion_degrees': [{'r': 2, 'least': 1, 'full': 1},\n",
       "   {'r': 3, 'least': 8, 'full': 8},\n",
       "   {'r': 5, 'least': 24, 'full': 24},\n",
       "   {'r': 7, 'least': 3, 'full': 6},\n",
       "   {'r': 11, 'least': 5, 'full': 10},\n",
       "   {'r': 13, 'least': 3, 'full': 12},\n",
       "   {'r': 17, 'least': 288, 'full': 288},\n",
       "   {'r': 19, 'least': 360, 'full': 360}]}}"
      ]
     },
     "execution_count": 51,
     "metadata": {},
     "output_type": "execute_result"
    }
   ],
   "source": [
    "Curves[1]"
   ]
  },
  {
   "cell_type": "code",
   "execution_count": null,
   "metadata": {},
   "outputs": [],
   "source": []
  }
 ],
 "metadata": {
  "kernelspec": {
   "display_name": "SageMath 9.0",
   "language": "sage",
   "name": "sagemath"
  },
  "language_info": {
   "codemirror_mode": {
    "name": "ipython",
    "version": 3
   },
   "file_extension": ".py",
   "mimetype": "text/x-python",
   "name": "python",
   "nbconvert_exporter": "python",
   "pygments_lexer": "ipython3",
   "version": "3.7.3"
  }
 },
 "nbformat": 4,
 "nbformat_minor": 2
}
