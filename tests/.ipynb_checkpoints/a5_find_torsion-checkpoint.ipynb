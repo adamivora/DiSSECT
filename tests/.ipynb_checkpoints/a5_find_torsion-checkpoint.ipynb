{
 "cells": [
  {
   "cell_type": "code",
   "execution_count": 14,
   "metadata": {},
   "outputs": [],
   "source": [
    "def embedding_degree_q(q, r):\n",
    "    '''returns embedding degree with respect to q'''\n",
    "    return Mod(q,r).multiplicative_order()\n",
    "\n",
    "def embedding_degree(E, r):\n",
    "    '''returns relative embedding degree with respect to E'''\n",
    "    q = (E.base_field()).order()\n",
    "    return embedding_degree_q(q, r)\n",
    "\n",
    "def ext_card(E, deg):\n",
    "    '''returns curve cardinality over deg-th relative extension'''\n",
    "    card_low = E.cardinality()\n",
    "    q = (E.base_field()).order()\n",
    "    tr = q + 1 - card_low\n",
    "    s_old, s_new = 2, tr\n",
    "    for i in [2..deg]:\n",
    "        s_old, s_new = s_new, tr * s_new - q * s_old\n",
    "    card_high = q^deg + 1 - s_new\n",
    "    return card_high\n",
    "\n",
    "def extend(E, deg):\n",
    "    '''returns curve over deg-th relative extension'''\n",
    "    q = E.base_field().order()\n",
    "    R.<x> = E.base_field()[]\n",
    "    pol = R.irreducible_element(deg)\n",
    "    Fext = GF(q^deg, name = 'z', modulus = pol)\n",
    "    EE = E.base_extend(Fext)\n",
    "    return EE\n",
    "\n",
    "def find_least_torsion(E, r):\n",
    "    for deg in divisors(r^2-1):\n",
    "        if ext_card(E, deg) % r == 0:\n",
    "#             assert deg in [1, (r-1)/2, (r^2-1)/2]\n",
    "            return deg\n",
    "    return None\n",
    "\n",
    "def is_torsion_cyclic(E, r, deg):\n",
    "    card = ext_card(E, deg)\n",
    "    assert card % r^2 == 0\n",
    "    m = ZZ(card / r)\n",
    "    EE = extend(E, deg)\n",
    "    for j in [1..5]:\n",
    "        P = EE.random_element()\n",
    "        if not (m*P == EE(0)):\n",
    "            return True\n",
    "    return False\n",
    "\n",
    "def find_full_torsion(E, r, least):\n",
    "    p = E.base_field().order()\n",
    "    q = p^least\n",
    "    k = embedding_degree_q(q, r)\n",
    "    if k > 1:\n",
    "        return k * least\n",
    "    else:\n",
    "        card = ext_card(E, least)\n",
    "        if (card % r^2) == 0 and not is_torsion_cyclic(E, r, least):\n",
    "            return least\n",
    "        else:\n",
    "            return r * least\n",
    "\n",
    "def find_torsions(E, r):\n",
    "    least = find_least_torsion(E, r)\n",
    "    if least == r^2-1:\n",
    "        full = least\n",
    "    else:\n",
    "        full = find_full_torsion(E, r, least)\n",
    "    return (least, full, full/least)\n",
    "\n",
    "def find_torsions_across_curves(p, r):\n",
    "    torsions = []\n",
    "    F = GF(p)\n",
    "    for j in [1..p]:\n",
    "        E = EllipticCurve_from_j(F(j))\n",
    "        Et = E.quadratic_twist()\n",
    "        torsions.append(find_torsions(E, r))\n",
    "        if not E.is_isomorphic(E.quadratic_twist()):\n",
    "            torsions.append(find_torsions(Et, r))\n",
    "    return torsions\n",
    "\n",
    "def plot_torsion_hists(p, r):\n",
    "    torsions = find_torsions_across_curves(p, r)\n",
    "    h = histogram(zip(*torsions), label=[\"p=\" + str(p) + \", r=\" + str(r)], density = True, linewidth = 1, rwidth = 0.8, bins = r^2-1, range = [1,r^2-1])\n",
    "    h.xmin(-3)\n",
    "    h.legend(True)\n",
    "    h.set_legend_options(loc=2, font_size = 'x-small')\n",
    "    h.show(aspect_ratio=2.5, axes=False)\n",
    "#     print len(torsions)\n",
    "\n",
    "def plot_torsion_hists_across_ps_and_rs(p_interval, r_interval):\n",
    "    for r in r_interval:\n",
    "        for p in p_interval:\n",
    "            if not p==r:\n",
    "                plot_torsion_hists(p, r)"
   ]
  },
  {
   "cell_type": "code",
   "execution_count": null,
   "metadata": {},
   "outputs": [],
   "source": [
    "p = 0xffffffff00000001000000000000000000000000ffffffffffffffffffffffff\n",
    "a = 0xffffffff00000001000000000000000000000000fffffffffffffffffffffffc\n",
    "b = 0x5ac635d8aa3a93e7b3ebbd55769886bc651d06b0cc53b0f63bce3c3e27d2604b\n",
    "n = 0xffffffff00000000ffffffffffffffffbce6faada7179e84f3b9cac2fc632551\n",
    "R = GF(p)\n",
    "E = EllipticCurve(R,[a,b])\n",
    "E.set_order(n)\n",
    "\n",
    "# EEE = extend(E,2000)\n",
    "# print EEE\n",
    "# %prun s = EEE.cardinality()\n",
    "# %prun t = ext_card(E,2000)\n",
    "\n",
    "\n",
    "for r in prime_range(3,500):\n",
    "    print r\n",
    "    print find_torsions(E, r)\n",
    "# find_least_torsion(E,r)\n",
    "##%prun  = \n",
    "\n",
    "# E2 = extend(E, 2)\n",
    "# print embedding_degree(E2, r)\n",
    "\n",
    "# find_torsions(E, r)"
   ]
  },
  {
   "cell_type": "code",
   "execution_count": 69,
   "metadata": {
    "slideshow": {
     "slide_type": "slide"
    }
   },
   "outputs": [
    {
     "name": "stdout",
     "output_type": "stream",
     "text": [
      "(60, 60, 1)\n",
      "(10, 10, 1)\n",
      "(20, 20, 1)\n",
      "(10, 10, 1)\n",
      "(20, 20, 1)\n",
      "(5, 5, 1)\n",
      "(60, 60, 1)\n",
      "(2, 10, 5)\n",
      "(30, 30, 1)\n",
      "(10, 10, 1)\n",
      "(1, 5, 5)\n",
      "(30, 30, 1)\n",
      "(5, 55, 11)\n",
      "(15, 15, 1)\n",
      "(5, 5, 1)\n",
      "(5, 55, 11)\n",
      "(5, 55, 11)\n",
      "(30, 30, 1)\n",
      "(60, 60, 1)\n",
      "(15, 15, 1)\n",
      "(10, 110, 11)\n",
      "(60, 60, 1)\n",
      "(2, 10, 5)\n",
      "(20, 20, 1)\n",
      "(2, 10, 5)\n",
      "(60, 60, 1)\n",
      "(60, 60, 1)\n",
      "(15, 15, 1)\n",
      "(60, 60, 1)\n",
      "(60, 60, 1)\n",
      "(10, 110, 11)\n"
     ]
    }
   ],
   "source": [
    "p = next_prime(30)\n",
    "R = GF(p)\n",
    "r = 11\n",
    "\n",
    "for j in R:\n",
    "    E = EllipticCurve_from_j(j)\n",
    "    Et = E.quadratic_twist()\n",
    "    print find_torsions(E, r)#, find_torsions(Et, r)\n"
   ]
  },
  {
   "cell_type": "code",
   "execution_count": null,
   "metadata": {},
   "outputs": [],
   "source": [
    "#try scatter plot for torsion pairs\n",
    "#compare twists - k1 differs by at most a factor of 2\n",
    "#improving visuals\n",
    "#save to git\n",
    "\n",
    "#TO DO: explain why least divides r^2-1 (through division polynomials)\n"
   ]
  },
  {
   "cell_type": "code",
   "execution_count": null,
   "metadata": {},
   "outputs": [],
   "source": [
    "%%html\n",
    "<style>\n",
    "div.input {\n",
    "    display:none;7000\n",
    "}\n",
    "</style>"
   ]
  },
  {
   "cell_type": "code",
   "execution_count": 33,
   "metadata": {},
   "outputs": [
    {
     "data": {
      "image/png": "[encoded data removed]",
      "text/plain": [
       "Graphics object consisting of 1 graphics primitive"
      ]
     },
     "metadata": {},
     "output_type": "display_data"
    },
    {
     "data": {
      "image/png": "[encoded data removed]",
      "text/plain": [
       "Graphics object consisting of 1 graphics primitive"
      ]
     },
     "metadata": {},
     "output_type": "display_data"
    },
    {
     "data": {
      "image/png": "[encoded data removed]",
      "text/plain": [
       "Graphics object consisting of 1 graphics primitive"
      ]
     },
     "metadata": {},
     "output_type": "display_data"
    },
    {
     "data": {
      "image/png": "[encoded data removed]",
      "text/plain": [
       "Graphics object consisting of 1 graphics primitive"
      ]
     },
     "metadata": {},
     "output_type": "display_data"
    },
    {
     "data": {
      "image/png": "[encoded data removed]",
      "text/plain": [
       "Graphics object consisting of 1 graphics primitive"
      ]
     },
     "metadata": {},
     "output_type": "display_data"
    },
    {
     "data": {
      "image/png": "[encoded data removed]",
      "text/plain": [
       "Graphics object consisting of 1 graphics primitive"
      ]
     },
     "metadata": {},
     "output_type": "display_data"
    }
   ],
   "source": [
    "r = 5\n",
    "ps = []\n",
    "for i in prime_range(3,100):\n",
    "    if (i % r) == 2:\n",
    "        ps.append(i)\n",
    "\n",
    "plot_torsion_hists_across_ps_and_rs(ps,[r])"
   ]
  },
  {
   "cell_type": "code",
   "execution_count": 23,
   "metadata": {},
   "outputs": [
    {
     "name": "stdout",
     "output_type": "stream",
     "text": [
      "8 0 18\n"
     ]
    }
   ],
   "source": [
    "p = 13\n",
    "r = 3\n",
    "L = find_torsions_across_curves(p, r)\n",
    "K = [i[1]/i[0] for i in L]\n",
    "print K.count(1), K.count(2), K.count(3)"
   ]
  },
  {
   "cell_type": "code",
   "execution_count": null,
   "metadata": {},
   "outputs": [
    {
     "name": "stdout",
     "output_type": "stream",
     "text": [
      "(8, 8)\n",
      "1 -th extension:\n",
      "Additive abelian group isomorphic to Z/14 embedded in Abelian group of points on Elliptic Curve defined by y^2 = x^3 + x + 4 over Finite Field of size 13\n",
      "2 -th extension:\n",
      "Additive abelian group isomorphic to Z/14 + Z/14 embedded in Abelian group of points on Elliptic Curve defined by y^2 = x^3 + x + 4 over Finite Field in z of size 13^2\n",
      "3 -th extension:\n",
      "Additive abelian group isomorphic to Z/2198 embedded in Abelian group of points on Elliptic Curve defined by y^2 = x^3 + x + 4 over Finite Field in z of size 13^3\n",
      "4 -th extension:\n",
      "Additive abelian group isomorphic to Z/168 + Z/168 embedded in Abelian group of points on Elliptic Curve defined by y^2 = x^3 + x + 4 over Finite Field in z of size 13^4\n",
      "5 -th extension:\n",
      "Additive abelian group isomorphic to Z/371294 embedded in Abelian group of points on Elliptic Curve defined by y^2 = x^3 + x + 4 over Finite Field in z of size 13^5\n",
      "6 -th extension:\n",
      "Additive abelian group isomorphic to Z/2198 + Z/2198 embedded in Abelian group of points on Elliptic Curve defined by y^2 = x^3 + x + 4 over Finite Field in z of size 13^6\n",
      "7 -th extension:\n",
      "Additive abelian group isomorphic to Z/62748518 embedded in Abelian group of points on Elliptic Curve defined by y^2 = x^3 + x + 4 over Finite Field in z of size 13^7\n",
      "8 -th extension:\n",
      "Additive abelian group isomorphic to Z/28560 + Z/28560 embedded in Abelian group of points on Elliptic Curve defined by y^2 = x^3 + x + 4 over Finite Field in z of size 13^8\n",
      "9 -th extension:\n",
      "Additive abelian group isomorphic to Z/10604499374 embedded in Abelian group of points on Elliptic Curve defined by y^2 = x^3 + x + 4 over Finite Field in z of size 13^9\n",
      "10 -th extension:\n",
      "Additive abelian group isomorphic to Z/371294 + Z/371294 embedded in Abelian group of points on Elliptic Curve defined by y^2 = x^3 + x + 4 over Finite Field in z of size 13^10\n",
      "11 -th extension:\n",
      "Additive abelian group isomorphic to Z/1792160394038 embedded in Abelian group of points on Elliptic Curve defined by y^2 = x^3 + x + 4 over Finite Field in z of size 13^11\n",
      "12 -th extension:\n"
     ]
    }
   ],
   "source": [
    "p = next_prime(12)\n",
    "R = GF(p)\n",
    "r = 5\n",
    "E = EllipticCurve_from_j(R(5))\n",
    "print find_torsions(E, r)\n",
    "\n",
    "for i in [1..r^2-1]:\n",
    "    EE = extend(E, i)\n",
    "    print i, \"-th extension:\"\n",
    "    print EE.abelian_group()"
   ]
  },
  {
   "cell_type": "code",
   "execution_count": 58,
   "metadata": {},
   "outputs": [
    {
     "name": "stdout",
     "output_type": "stream",
     "text": [
      "(4, 4, 1)\n",
      "deg 1\n",
      "(5) * (x^2 + 1) * (x^2 + x + 8) * (x^2 + 3*x + 8) * (x^2 + 5*x + 1) * (x^2 + 6*x + 1) * (x^2 + 7*x + 8)\n",
      "deg 2\n",
      "(5) * (x + 2*z2 + 3) * (x + 2*z2 + 4) * (x + 2*z2 + 10) * (x + 3*z2 + 3) * (x + 4*z2 + 3) * (x + 5*z2 + 7) * (x + 6*z2 + 5) * (x + 7*z2 + 8) * (x + 8*z2 + 4) * (x + 9*z2) * (x + 9*z2 + 1) * (x + 9*z2 + 7)\n",
      "deg 3\n",
      "(5) * (x^2 + 1) * (x^2 + x + 8) * (x^2 + 3*x + 8) * (x^2 + 5*x + 1) * (x^2 + 6*x + 1) * (x^2 + 7*x + 8)\n",
      "deg 4\n",
      "(5) * (x + 2*z4^3 + 3*z4^2 + z4 + 1) * (x + 2*z4^3 + 3*z4^2 + z4 + 2) * (x + 2*z4^3 + 3*z4^2 + z4 + 8) * (x + 3*z4^3 + 10*z4^2 + 7*z4) * (x + 4*z4^3 + 6*z4^2 + 2*z4 + 10) * (x + 5*z4^3 + 2*z4^2 + 8*z4 + 2) * (x + 6*z4^3 + 9*z4^2 + 3*z4 + 10) * (x + 7*z4^3 + 5*z4^2 + 9*z4 + 1) * (x + 8*z4^3 + z4^2 + 4*z4 + 7) * (x + 9*z4^3 + 8*z4^2 + 10*z4 + 2) * (x + 9*z4^3 + 8*z4^2 + 10*z4 + 3) * (x + 9*z4^3 + 8*z4^2 + 10*z4 + 9)\n",
      "(4, 4, 1)\n",
      "deg 1\n",
      "(5) * (x^2 + x + 6) * (x^2 + 3*x + 8) * (x^2 + 5*x + 2) * (x^2 + 6*x + 2) * (x^2 + 8*x + 8) * (x^2 + 10*x + 6)\n",
      "deg 2\n",
      "(5) * (x + 2*z2) * (x + 2*z2 + 1) * (x + 2*z2 + 2) * (x + 2*z2 + 3) * (x + 3*z2 + 2) * (x + 3*z2 + 8) * (x + 8*z2 + 3) * (x + 8*z2 + 9) * (x + 9*z2) * (x + 9*z2 + 8) * (x + 9*z2 + 9) * (x + 9*z2 + 10)\n",
      "deg 3\n",
      "(5) * (x^2 + x + 6) * (x^2 + 3*x + 8) * (x^2 + 5*x + 2) * (x^2 + 6*x + 2) * (x^2 + 8*x + 8) * (x^2 + 10*x + 6)\n",
      "deg 4\n",
      "(5) * (x + 2*z4^3 + 3*z4^2 + z4) * (x + 2*z4^3 + 3*z4^2 + z4 + 1) * (x + 2*z4^3 + 3*z4^2 + z4 + 9) * (x + 2*z4^3 + 3*z4^2 + z4 + 10) * (x + 3*z4^3 + 10*z4^2 + 7*z4 + 5) * (x + 3*z4^3 + 10*z4^2 + 7*z4 + 10) * (x + 8*z4^3 + z4^2 + 4*z4 + 1) * (x + 8*z4^3 + z4^2 + 4*z4 + 6) * (x + 9*z4^3 + 8*z4^2 + 10*z4) * (x + 9*z4^3 + 8*z4^2 + 10*z4 + 1) * (x + 9*z4^3 + 8*z4^2 + 10*z4 + 2) * (x + 9*z4^3 + 8*z4^2 + 10*z4 + 10)\n",
      "(6, 6, 1)\n",
      "deg 1\n",
      "(5) * (x^3 + 5*x + 10) * (x^3 + x^2 + 10*x + 5) * (x^3 + 5*x^2 + 5*x + 7) * (x^3 + 5*x^2 + 7*x + 5)\n",
      "deg 2\n",
      "(5) * (x^3 + 5*x + 10) * (x^3 + x^2 + 10*x + 5) * (x^3 + 5*x^2 + 5*x + 7) * (x^3 + 5*x^2 + 7*x + 5)\n",
      "deg 3\n",
      "(5) * (x + 6*z3 + 9) * (x + z3^2 + 9) * (x + z3^2 + 3*z3 + 9) * (x + z3^2 + 5*z3 + 3) * (x + 2*z3^2 + 7*z3 + 10) * (x + 3*z3^2 + z3 + 4) * (x + 3*z3^2 + 2*z3 + 2) * (x + 5*z3^2 + 10*z3 + 1) * (x + 6*z3^2 + 3*z3 + 8) * (x + 6*z3^2 + 6*z3 + 6) * (x + 7*z3^2 + 4*z3) * (x + 9*z3^2 + 8*z3 + 5)\n",
      "deg 4\n",
      "(5) * (x^3 + 5*x + 10) * (x^3 + x^2 + 10*x + 5) * (x^3 + 5*x^2 + 5*x + 7) * (x^3 + 5*x^2 + 7*x + 5)\n",
      "deg 5\n",
      "(5) * (x^3 + 5*x + 10) * (x^3 + x^2 + 10*x + 5) * (x^3 + 5*x^2 + 5*x + 7) * (x^3 + 5*x^2 + 7*x + 5)\n",
      "deg 6\n",
      "(5) * (x + 6*z6^4 + 6*z6^3 + 7*z6^2 + 5*z6 + 3) * (x + 6*z6^5 + 9*z6^4 + 9*z6^3 + 9*z6^2 + 9*z6) * (x + 5*z6^5 + 5*z6^4 + 5*z6^3 + 10*z6) * (x + 2*z6^5 + 5*z6^2 + 6*z6 + 2) * (x + 6*z6^5 + 10*z6^4 + 10*z6^3 + z6^2 + 8*z6 + 4) * (x + 8*z6^5 + 3*z6^4 + 3*z6^3 + 7*z6^2 + 10*z6 + 5) * (x + 6*z6^5 + 3*z6^4 + 3*z6^3 + 2*z6^2 + 4*z6 + 6) * (x + 3*z6^5 + 4*z6^4 + 4*z6^3 + 3*z6^2 + 5*z6 + 6) * (x + 10*z6^5 + 9*z6^4 + 9*z6^3 + 8*z6^2 + 10*z6 + 6) * (x + 9*z6^5 + 3*z6^4 + 3*z6^3 + 4*z6^2 + 2*z6 + 7) * (x + 6*z6^5 + 7*z6^4 + 7*z6^3 + 3*z6^2 + 8) * (x + 5*z6^5 + 7*z6^4 + 7*z6^3 + 6*z6^2 + 8*z6 + 8)\n",
      "(3, 3, 1)\n",
      "deg 1\n",
      "(5) * (x^3 + 6*x^2 + 4*x + 9) * (x^3 + 7*x^2 + 8*x + 8) * (x^3 + 10*x^2 + x + 4) * (x^3 + 10*x^2 + 2*x + 8)\n",
      "deg 2\n",
      "(5) * (x^3 + 6*x^2 + 4*x + 9) * (x^3 + 7*x^2 + 8*x + 8) * (x^3 + 10*x^2 + x + 4) * (x^3 + 10*x^2 + 2*x + 8)\n",
      "deg 3\n",
      "(5) * (x + 4*z3 + 6) * (x + z3^2 + 8*z3 + 1) * (x + z3^2 + 10*z3 + 7) * (x + 2*z3^2 + 5*z3 + 1) * (x + 3*z3^2 + 10*z3) * (x + 4*z3^2 + 5) * (x + 4*z3^2 + z3 + 5) * (x + 4*z3^2 + 4*z3 + 4) * (x + 4*z3^2 + 9*z3 + 5) * (x + 6*z3^2 + 5*z3 + 4) * (x + 7*z3^2 + 3*z3 + 8) * (x + 8*z3^2 + 7*z3 + 9)\n",
      "(1, 5, 5)\n",
      "deg 1\n",
      "(5) * (x + 5) * (x + 8) * (x^5 + 7*x^3 + 7*x^2 + 3*x + 5) * (x^5 + 9*x^4 + 10*x^3 + 4*x^2 + 2*x + 6)\n",
      "deg 2\n",
      "(5) * (x + 5) * (x + 8) * (x^5 + 7*x^3 + 7*x^2 + 3*x + 5) * (x^5 + 9*x^4 + 10*x^3 + 4*x^2 + 2*x + 6)\n",
      "deg 3\n",
      "(5) * (x + 5) * (x + 8) * (x^5 + 7*x^3 + 7*x^2 + 3*x + 5) * (x^5 + 9*x^4 + 10*x^3 + 4*x^2 + 2*x + 6)\n",
      "deg 4\n",
      "(5) * (x + 5) * (x + 8) * (x^5 + 7*x^3 + 7*x^2 + 3*x + 5) * (x^5 + 9*x^4 + 10*x^3 + 4*x^2 + 2*x + 6)\n",
      "deg 5\n",
      "(5) * (x + 5) * (x + 8) * (x + 9*z5^2 + 3*z5) * (x + 9*z5^3 + 2*z5^2 + 4*z5 + 10) * (x + 8*z5^4 + 2*z5^3 + 4*z5^2 + 1) * (x + 8*z5^4 + 7*z5^3 + 9*z5^2 + 4*z5 + 2) * (x + 9*z5^4 + 7*z5^3 + 9*z5^2 + 8*z5 + 2) * (x + 8*z5^4 + 9*z5^3 + 9*z5^2 + 3) * (x + 4*z5^4 + 6*z5^3 + 6*z5^2 + 4*z5 + 3) * (x + 7*z5^4 + 4*z5^3 + 5*z5^2 + 6) * (x + z5^4 + 6*z5^3 + z5^2 + 10*z5 + 7) * (x + 10*z5^4 + 5*z5^3 + z5^2 + 8)\n",
      "(4, 4, 1)\n",
      "deg 1\n",
      "(5) * (x^2 + 1) * (x^2 + 4*x + 2) * (x^2 + 4*x + 7) * (x^2 + 5*x + 2) * (x^2 + 10*x + 1) * (x^2 + 10*x + 4)\n",
      "deg 2\n",
      "(5) * (x + z2) * (x + z2 + 3) * (x + 2*z2 + 9) * (x + 3*z2 + 2) * (x + 4*z2 + 3) * (x + 4*z2 + 8) * (x + 7*z2 + 2) * (x + 7*z2 + 8) * (x + 8*z2 + 3) * (x + 9*z2 + 6) * (x + 10*z2 + 4) * (x + 10*z2 + 7)\n",
      "deg 3\n",
      "(5) * (x^2 + 1) * (x^2 + 4*x + 2) * (x^2 + 4*x + 7) * (x^2 + 5*x + 2) * (x^2 + 10*x + 1) * (x^2 + 10*x + 4)\n",
      "deg 4\n",
      "(5) * (x + z4^3 + 7*z4^2 + 6*z4 + 2) * (x + z4^3 + 7*z4^2 + 6*z4 + 10) * (x + 2*z4^3 + 3*z4^2 + z4 + 7) * (x + 3*z4^3 + 10*z4^2 + 7*z4 + 10) * (x + 4*z4^3 + 6*z4^2 + 2*z4 + 4) * (x + 4*z4^3 + 6*z4^2 + 2*z4 + 10) * (x + 7*z4^3 + 5*z4^2 + 9*z4 + 1) * (x + 7*z4^3 + 5*z4^2 + 9*z4 + 6) * (x + 8*z4^3 + z4^2 + 4*z4 + 6) * (x + 9*z4^3 + 8*z4^2 + 10*z4 + 8) * (x + 10*z4^3 + 4*z4^2 + 5*z4 + 5) * (x + 10*z4^3 + 4*z4^2 + 5*z4 + 8)\n",
      "(3, 3, 1)\n",
      "deg 1\n",
      "(5) * (x^3 + 9*x + 3) * (x^3 + 7*x^2 + 3*x + 3) * (x^3 + 7*x^2 + 5*x + 7) * (x^3 + 8*x^2 + 4*x + 5)\n",
      "deg 2\n",
      "(5) * (x^3 + 9*x + 3) * (x^3 + 7*x^2 + 3*x + 3) * (x^3 + 7*x^2 + 5*x + 7) * (x^3 + 8*x^2 + 4*x + 5)\n",
      "deg 3\n",
      "(5) * (x + z3^2 + 6*z3 + 5) * (x + 2*z3^2 + 7*z3 + 5) * (x + 3*z3^2 + z3 + 10) * (x + 4*z3^2 + 3*z3 + 9) * (x + 6*z3^2 + 3) * (x + 6*z3^2 + 2*z3 + 8) * (x + 6*z3^2 + 3*z3 + 3) * (x + 6*z3^2 + 7*z3 + 3) * (x + 6*z3^2 + 8*z3 + 7) * (x + 7*z3^2 + z3 + 1) * (x + 9*z3^2 + 2*z3) * (x + 10*z3^2 + 4*z3 + 1)\n",
      "(2, 10, 5)\n",
      "deg 1\n",
      "(5) * (x + 1) * (x + 7) * (x^5 + 4*x^4 + x^3 + 10*x^2 + 7*x + 1) * (x^5 + 10*x^4 + 9*x^3 + 5*x^2 + 8*x + 9)\n",
      "deg 2\n",
      "(5) * (x + 1) * (x + 7) * (x^5 + 4*x^4 + x^3 + 10*x^2 + 7*x + 1) * (x^5 + 10*x^4 + 9*x^3 + 5*x^2 + 8*x + 9)\n",
      "deg 3\n",
      "(5) * (x + 1) * (x + 7) * (x^5 + 4*x^4 + x^3 + 10*x^2 + 7*x + 1) * (x^5 + 10*x^4 + 9*x^3 + 5*x^2 + 8*x + 9)\n",
      "deg 4\n",
      "(5) * (x + 1) * (x + 7) * (x^5 + 4*x^4 + x^3 + 10*x^2 + 7*x + 1) * (x^5 + 10*x^4 + 9*x^3 + 5*x^2 + 8*x + 9)\n",
      "deg 5\n",
      "(5) * (x + 1) * (x + 7) * (x + 2*z5^3 + 4*z5 + 3) * (x + 10*z5^4 + 7*z5^3 + z5 + 1) * (x + 3*z5^4 + 9*z5^3 + 9*z5^2 + 8*z5 + 1) * (x + 8*z5^4 + 4*z5^2 + 7*z5 + 2) * (x + 5*z5^4 + 6*z5^3 + 5*z5^2 + 6*z5 + 6) * (x + 10*z5^4 + 6*z5^3 + 4*z5^2 + 7*z5 + 6) * (x + z5^4 + 8*z5^3 + 8*z5^2 + 7*z5 + 6) * (x + z5^4 + 6*z5^3 + 10*z5^2 + 9*z5 + 6) * (x + 7*z5^4 + 8*z5^3 + 3*z5^2 + 10*z5 + 7) * (x + 10*z5^4 + 3*z5^3 + z5^2 + 7*z5 + 9)\n",
      "deg 6\n",
      "(5) * (x + 1) * (x + 7) * (x^5 + 4*x^4 + x^3 + 10*x^2 + 7*x + 1) * (x^5 + 10*x^4 + 9*x^3 + 5*x^2 + 8*x + 9)\n",
      "deg 7\n",
      "(5) * (x + 1) * (x + 7) * (x^5 + 4*x^4 + x^3 + 10*x^2 + 7*x + 1) * (x^5 + 10*x^4 + 9*x^3 + 5*x^2 + 8*x + 9)\n",
      "deg 8\n",
      "(5) * (x + 1) * (x + 7) * (x^5 + 4*x^4 + x^3 + 10*x^2 + 7*x + 1) * (x^5 + 10*x^4 + 9*x^3 + 5*x^2 + 8*x + 9)\n",
      "deg 9\n",
      "(5) * (x + 1) * (x + 7) * (x^5 + 4*x^4 + x^3 + 10*x^2 + 7*x + 1) * (x^5 + 10*x^4 + 9*x^3 + 5*x^2 + 8*x + 9)\n",
      "deg 10\n",
      "(5) * (x + 1) * (x + 7) * (x + 10*z10^8 + 9*z10^7 + 4*z10^6 + z10^3 + 10*z10^2 + 10*z10 + 9) * (x + 5*z10^9 + 6*z10^8 + 10*z10^7 + 5*z10^6 + 6*z10^5 + 9*z10^4 + 8*z10^3 + 10*z10^2 + 9*z10) * (x + 7*z10^9 + 9*z10^8 + 9*z10^7 + 2*z10^6 + 8*z10^5 + 2*z10^4 + z10^3 + 8*z10^2 + 1) * (x + z10^9 + 2*z10^7 + 8*z10^6 + 3*z10^5 + 10*z10^4 + 2*z10^3 + z10^2 + 10*z10 + 1) * (x + 2*z10^9 + 2*z10^8 + 10*z10^7 + 10*z10^5 + 2*z10^4 + 10*z10^3 + 9*z10^2 + 4*z10 + 2) * (x + 9*z10^9 + 6*z10^8 + z10^7 + 5*z10^6 + 7*z10^5 + 8*z10^4 + 5*z10^3 + 9*z10^2 + z10 + 5) * (x + 6*z10^9 + 7*z10^8 + 2*z10^7 + 8*z10^6 + z10^5 + 4*z10^4 + 4*z10^3 + 10*z10^2 + 3*z10 + 5) * (x + 8*z10^9 + 9*z10^8 + 6*z10^7 + 7*z10^6 + 2*z10^5 + 6*z10^4 + 7*z10^3 + z10^2 + 8*z10 + 7) * (x + z10^9 + z10^8 + 3*z10^7 + 8*z10^6 + z10^5 + 8*z10^4 + 8*z10^3 + 5*z10^2 + 9*z10 + 8) * (x + 5*z10^9 + 5*z10^8 + 3*z10^7 + 8*z10^6 + 6*z10^5 + 6*z10^4 + 9*z10^3 + 3*z10^2 + z10 + 9)\n",
      "(3, 3, 1)\n",
      "deg 1\n",
      "(5) * (x^3 + 7*x^2 + 6*x + 5) * (x^3 + 8*x^2 + 4*x + 3) * (x^3 + 8*x^2 + 10*x + 4) * (x^3 + 10*x^2 + x + 4)\n",
      "deg 2\n",
      "(5) * (x^3 + 7*x^2 + 6*x + 5) * (x^3 + 8*x^2 + 4*x + 3) * (x^3 + 8*x^2 + 10*x + 4) * (x^3 + 10*x^2 + x + 4)\n",
      "deg 3\n",
      "(5) * (x + 2*z3 + 6) * (x + 8*z3 + 10) * (x + 2*z3^2 + 2*z3 + 5) * (x + 2*z3^2 + 8*z3 + 9) * (x + 3*z3^2 + 6*z3 + 3) * (x + 3*z3^2 + 10*z3) * (x + 4*z3^2 + 5) * (x + 4*z3^2 + z3 + 5) * (x + 4*z3^2 + 2*z3 + 8) * (x + 5*z3^2 + z3 + 2) * (x + 8*z3^2 + 8*z3 + 6) * (x + 9*z3^2 + 7*z3 + 7)\n",
      "(2, 10, 5)\n",
      "deg 1\n",
      "(5) * (x + 7) * (x + 9) * (x^5 + 4*x^2 + 3*x + 8) * (x^5 + 6*x^4 + 5*x^3 + 8*x^2 + 10*x + 7)\n",
      "deg 2\n",
      "(5) * (x + 7) * (x + 9) * (x^5 + 4*x^2 + 3*x + 8) * (x^5 + 6*x^4 + 5*x^3 + 8*x^2 + 10*x + 7)\n",
      "deg 3\n",
      "(5) * (x + 7) * (x + 9) * (x^5 + 4*x^2 + 3*x + 8) * (x^5 + 6*x^4 + 5*x^3 + 8*x^2 + 10*x + 7)\n",
      "deg 4\n",
      "(5) * (x + 7) * (x + 9) * (x^5 + 4*x^2 + 3*x + 8) * (x^5 + 6*x^4 + 5*x^3 + 8*x^2 + 10*x + 7)\n",
      "deg 5\n"
     ]
    },
    {
     "name": "stdout",
     "output_type": "stream",
     "text": [
      "(5) * (x + 7) * (x + 9) * (x + 5*z5^3 + 9*z5^2 + 7*z5 + 7) * (x + 3*z5^4 + 2*z5^3 + z5^2 + 10*z5 + 1) * (x + 2*z5^4 + 4*z5^3 + 6*z5^2 + 6*z5 + 2) * (x + 5*z5^4 + 10*z5^3 + 10*z5^2 + 3*z5 + 5) * (x + 10*z5^4 + z5^3 + 4*z5^2 + 7*z5 + 6) * (x + 8*z5^4 + 5*z5^3 + 5*z5^2 + 3*z5 + 7) * (x + 7*z5^4 + 7*z5^3 + 2*z5^2 + 8) * (x + 4*z5^4 + 7*z5^3 + 8*z5^2 + 6*z5 + 8) * (x + 2*z5^4 + 5*z5^3 + z5^2 + 7*z5 + 8) * (x + 3*z5^4 + 9*z5^3 + 9*z5^2 + 6*z5 + 9)\n",
      "deg 6\n",
      "(5) * (x + 7) * (x + 9) * (x^5 + 4*x^2 + 3*x + 8) * (x^5 + 6*x^4 + 5*x^3 + 8*x^2 + 10*x + 7)\n",
      "deg 7\n",
      "(5) * (x + 7) * (x + 9) * (x^5 + 4*x^2 + 3*x + 8) * (x^5 + 6*x^4 + 5*x^3 + 8*x^2 + 10*x + 7)\n",
      "deg 8\n",
      "(5) * (x + 7) * (x + 9) * (x^5 + 4*x^2 + 3*x + 8) * (x^5 + 6*x^4 + 5*x^3 + 8*x^2 + 10*x + 7)\n",
      "deg 9\n",
      "(5) * (x + 7) * (x + 9) * (x^5 + 4*x^2 + 3*x + 8) * (x^5 + 6*x^4 + 5*x^3 + 8*x^2 + 10*x + 7)\n",
      "deg 10\n",
      "(5) * (x + 7) * (x + 9) * (x + 3*z10^9 + 5*z10^8 + 2*z10^7 + z10^6 + 7*z10^5 + 7*z10^4 + 8*z10^3 + 2*z10^2 + 6*z10) * (x + 9*z10^9 + 5*z10^8 + z10^7 + z10^6 + z10^4 + 3*z10^3 + 2*z10^2 + 4*z10 + 3) * (x + 10*z10^9 + 9*z10^8 + 9*z10^7 + 5*z10^6 + 6*z10^5 + 2*z10^4 + 7*z10^3 + 6*z10^2 + 4*z10 + 4) * (x + 5*z10^9 + 8*z10^8 + 10*z10^7 + 2*z10^6 + 9*z10^5 + z10^4 + z10^3 + 2*z10^2 + 3*z10 + 6) * (x + 8*z10^9 + 7*z10^8 + 3*z10^7 + 9*z10^6 + 6*z10^5 + 5*z10^4 + 6*z10^3 + 5*z10^2 + 2*z10 + 7) * (x + 4*z10^9 + 6*z10^8 + 8*z10^7 + 3*z10^6 + 8*z10^5 + 8*z10^4 + 5*z10^3 + 4*z10^2 + 6*z10 + 7) * (x + 6*z10^9 + 2*z10^8 + 2*z10^7 + 10*z10^6 + 10*z10^5 + 2*z10^4 + 5*z10^3 + 8*z10^2 + 7*z10 + 7) * (x + 8*z10^9 + 5*z10^8 + 6*z10^7 + 2*z10^6 + 7*z10^5 + 10*z10^3 + 6*z10^2 + 9*z10 + 8) * (x + 5*z10^9 + 2*z10^8 + 3*z10^7 + 7*z10^6 + 7*z10^5 + 7*z10^4 + 3*z10^3 + 4*z10^2 + 10*z10 + 9) * (x + 8*z10^9 + 6*z10^8 + 4*z10^6 + 6*z10^5 + 7*z10^3 + 5*z10^2 + 4*z10 + 10)\n",
      "(1, 5, 5)\n",
      "deg 1\n",
      "(5) * (x + 5) * (x + 7) * (x^5 + 4*x^4 + 3*x^2 + x + 10) * (x^5 + 6*x^4 + 4*x^3 + 2*x^2 + 9*x + 7)\n",
      "deg 2\n",
      "(5) * (x + 5) * (x + 7) * (x^5 + 4*x^4 + 3*x^2 + x + 10) * (x^5 + 6*x^4 + 4*x^3 + 2*x^2 + 9*x + 7)\n",
      "deg 3\n",
      "(5) * (x + 5) * (x + 7) * (x^5 + 4*x^4 + 3*x^2 + x + 10) * (x^5 + 6*x^4 + 4*x^3 + 2*x^2 + 9*x + 7)\n",
      "deg 4\n",
      "(5) * (x + 5) * (x + 7) * (x^5 + 4*x^4 + 3*x^2 + x + 10) * (x^5 + 6*x^4 + 4*x^3 + 2*x^2 + 9*x + 7)\n",
      "deg 5\n",
      "(5) * (x + 5) * (x + 7) * (x + z5^3 + 4*z5^2 + z5 + 9) * (x + 5*z5^4 + 5*z5^3 + 10*z5^2 + 2*z5) * (x + 6*z5^4 + 7*z5^3 + z5^2 + z5 + 1) * (x + 3*z5^4 + 8*z5^3 + 7*z5^2 + 2*z5 + 3) * (x + 4*z5^4 + 8*z5^3 + 2*z5^2 + 6*z5 + 3) * (x + 5*z5^4 + z5^3 + 2*z5^2 + 4*z5 + 5) * (x + 6*z5^4 + 6*z5^3 + 5*z5^2 + 10*z5 + 6) * (x + 9*z5^4 + 7*z5^3 + 8*z5^2 + 5*z5 + 8) * (x + z5^4 + 9*z5^3 + 3*z5^2 + 5*z5 + 9) * (x + 5*z5^4 + 3*z5^3 + 2*z5^2 + 8*z5 + 10)\n"
     ]
    }
   ],
   "source": [
    "p = next_prime(10)\n",
    "R = GF(p)\n",
    "r = 5\n",
    "\n",
    "for j in R:\n",
    "    E = EllipticCurve_from_j(j)\n",
    "    torsions = find_torsions(E,r)\n",
    "    print torsions\n",
    "    or i in [1..torsions[1]]:\n",
    "        pol = E.division_polynomial(r)\n",
    "        S.<x> = PolynomialRing(GF(p^i))\n",
    "        print \"deg\", i\n",
    "        print factor(S(pol))f"
   ]
  },
  {
   "cell_type": "code",
   "execution_count": 66,
   "metadata": {
    "scrolled": true
   },
   "outputs": [],
   "source": [
    "def torsion_possibilities(r): #it seems all of these can really occur\n",
    "    poss = []\n",
    "    for i in divisors(r^2-1):\n",
    "        multipliers = set([Mod(h,r).multiplicative_order() for h in set([l^i for l in Integers(r)]).difference(set([0]))]).union([1,r])\n",
    "#         print i, multipliers\n",
    "        for j in multipliers:\n",
    "            if i*j <= r^2-1:\n",
    "                poss.append((i,i*j))\n",
    "    return poss\n",
    "\n",
    "def find_torsion_frequencies(p,r):\n",
    "    torsions = find_torsions_across_curves(p,r)\n",
    "    torsions_short = map(lambda x: x[:2], torsions)\n",
    "    poss = torsion_possibilities(r)\n",
    "    freq = []\n",
    "    for pos in poss:\n",
    "        freq.append((pos, torsions_short.count(pos)))\n",
    "    return freq\n",
    "\n",
    "def plot_torsion_frequencies(p,r):\n",
    "    b = bar_chart([f[1] for f in freq], width=0.5)\n",
    "    b.show(aspect_ratio=1)"
   ]
  },
  {
   "cell_type": "code",
   "execution_count": 72,
   "metadata": {},
   "outputs": [
    {
     "name": "stdout",
     "output_type": "stream",
     "text": [
      "11\n",
      "[((1, 1), 0), ((1, 2), 0), ((1, 3), 3), ((1, 6), 0), ((1, 7), 0), ((2, 2), 0), ((2, 6), 3), ((2, 14), 0), ((3, 3), 0), ((3, 6), 0), ((3, 21), 4), ((4, 4), 0), ((4, 12), 0), ((4, 28), 0), ((6, 6), 0), ((6, 42), 4), ((8, 8), 0), ((8, 24), 0), ((12, 12), 3), ((16, 16), 0), ((16, 48), 0), ((24, 24), 4), ((48, 48), 0)]\n",
      "[0, 0, 3, 0, 0, 0, 3, 0, 0, 0, 4, 0, 0, 0, 0, 4, 0, 0, 3, 0, 0, 4, 0]\n",
      "-------------------------\n",
      "13\n",
      "[((1, 1), 0), ((1, 2), 2), ((1, 3), 0), ((1, 6), 0), ((1, 7), 0), ((2, 2), 0), ((2, 6), 0), ((2, 14), 0), ((3, 3), 0), ((3, 6), 10), ((3, 21), 0), ((4, 4), 0), ((4, 12), 0), ((4, 28), 0), ((6, 6), 0), ((6, 42), 0), ((8, 8), 0), ((8, 24), 0), ((12, 12), 0), ((16, 16), 14), ((16, 48), 0), ((24, 24), 0), ((48, 48), 0)]\n",
      "[0, 2, 0, 0, 0, 0, 0, 0, 0, 10, 0, 0, 0, 0, 0, 0, 0, 0, 0, 14, 0, 0, 0]\n",
      "-------------------------\n",
      "17\n",
      "[((1, 1), 0), ((1, 2), 0), ((1, 3), 0), ((1, 6), 5), ((1, 7), 0), ((2, 2), 0), ((2, 6), 5), ((2, 14), 0), ((3, 3), 0), ((3, 6), 6), ((3, 21), 0), ((4, 4), 0), ((4, 12), 0), ((4, 28), 0), ((6, 6), 0), ((6, 42), 0), ((8, 8), 0), ((8, 24), 0), ((12, 12), 0), ((16, 16), 0), ((16, 48), 0), ((24, 24), 0), ((48, 48), 18)]\n",
      "[0, 0, 0, 5, 0, 0, 5, 0, 0, 6, 0, 0, 0, 0, 0, 0, 0, 0, 0, 0, 0, 0, 18]\n",
      "-------------------------\n",
      "19\n",
      "[((1, 1), 0), ((1, 2), 0), ((1, 3), 0), ((1, 6), 6), ((1, 7), 0), ((2, 2), 0), ((2, 6), 6), ((2, 14), 0), ((3, 3), 0), ((3, 6), 5), ((3, 21), 0), ((4, 4), 0), ((4, 12), 0), ((4, 28), 0), ((6, 6), 0), ((6, 42), 0), ((8, 8), 0), ((8, 24), 0), ((12, 12), 0), ((16, 16), 0), ((16, 48), 0), ((24, 24), 0), ((48, 48), 20)]\n",
      "[0, 0, 0, 6, 0, 0, 6, 0, 0, 5, 0, 0, 0, 0, 0, 0, 0, 0, 0, 0, 0, 0, 20]\n",
      "-------------------------\n"
     ]
    }
   ],
   "source": [
    "r = 7\n",
    "for p in prime_range(10,20):\n",
    "    print p\n",
    "    freq = find_torsion_frequencies(p,r)\n",
    "    print freq\n",
    "    print [f[1] for f in freq]\n",
    "#     plot_torsion_frequencies(p,r)\n",
    "    print \"-------------------------\"\n",
    "    "
   ]
  },
  {
   "cell_type": "code",
   "execution_count": 40,
   "metadata": {},
   "outputs": [
    {
     "name": "stdout",
     "output_type": "stream",
     "text": [
      "[((1, 1), 0), ((1, 2), 9), ((1, 3), 0), ((2, 2), 0), ((2, 6), 0), ((4, 4), 0), ((8, 8), 12)] 7\n",
      "[0, 9, 0, 0, 0, 0, 12]\n"
     ]
    },
    {
     "data": {
      "image/png": "[encoded data removed]",
      "text/plain": [
       "Graphics object consisting of 1 graphics primitive"
      ]
     },
     "metadata": {},
     "output_type": "display_data"
    }
   ],
   "source": [
    "p = 11\n",
    "r = 3\n",
    "print freq, len(freq)\n",
    "print [f[1] for f in freq]\n",
    "h = histogram([1,9,3,3,4], label=[\"p=\" + str(p) + \", r=\" + str(r)], density = True, linewidth = 1, rwidth = 0.8, bins = len(freq), range = [1,len(freq)+5])\n",
    "h.xmin(-3)\n",
    "h.legend(True)\n",
    "h.set_legend_options(loc=2, font_size = 'x-small')\n",
    "h.show(aspect_ratio=2.5, axes=False)"
   ]
  },
  {
   "cell_type": "code",
   "execution_count": null,
   "metadata": {},
   "outputs": [],
   "source": []
  }
 ],
 "metadata": {
  "kernelspec": {
   "display_name": "SageMath 8.9",
   "language": "sage",
   "name": "sagemath"
  }
 },
 "nbformat": 4,
 "nbformat_minor": 2
}
