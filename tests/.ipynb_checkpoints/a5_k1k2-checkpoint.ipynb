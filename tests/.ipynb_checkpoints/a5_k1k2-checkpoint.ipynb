{
 "cells": [
  {
   "cell_type": "code",
   "execution_count": 8,
   "metadata": {},
   "outputs": [],
   "source": []
  },
  {
   "cell_type": "code",
   "execution_count": 17,
   "metadata": {},
   "outputs": [
    {
     "name": "stdout",
     "output_type": "stream",
     "text": [
      "3 {1, 2} [1, 2, 4]\n",
      "5 {1, 2, 4} [1, 2, 3, 6]\n",
      "7 {1, 2, 3, 6} [1, 2, 4, 8]\n",
      "11 {1, 2, 10, 5} [1, 2, 3, 4, 6, 12]\n",
      "13 {1, 2, 3, 4, 6, 12} [1, 2, 7, 14]\n",
      "17 {1, 2, 4, 8, 16} [1, 2, 3, 6, 9, 18]\n",
      "19 {1, 2, 3, 6, 9, 18} [1, 2, 4, 5, 10, 20]\n",
      "23 {1, 2, 11, 22} [1, 2, 3, 4, 6, 8, 12, 24]\n",
      "29 {1, 2, 4, 7, 14, 28} [1, 2, 3, 5, 6, 10, 15, 30]\n",
      "31 {1, 2, 3, 5, 6, 10, 15, 30} [1, 2, 4, 8, 16, 32]\n",
      "37 {1, 2, 3, 4, 36, 6, 9, 12, 18} [1, 2, 19, 38]\n",
      "41 {1, 2, 4, 5, 8, 40, 10, 20} [1, 2, 3, 6, 7, 14, 21, 42]\n",
      "43 {1, 2, 3, 6, 7, 42, 14, 21} [1, 2, 4, 11, 22, 44]\n",
      "47 {1, 2, 46, 23} [1, 2, 3, 4, 6, 8, 12, 16, 24, 48]\n",
      "53 {1, 2, 4, 13, 52, 26} [1, 2, 3, 6, 9, 18, 27, 54]\n",
      "59 {1, 2, 58, 29} [1, 2, 3, 4, 5, 6, 10, 12, 15, 20, 30, 60]\n",
      "61 {1, 2, 3, 4, 5, 6, 10, 12, 15, 20, 60, 30} [1, 2, 31, 62]\n",
      "67 {1, 2, 3, 33, 66, 6, 11, 22} [1, 2, 4, 17, 34, 68]\n",
      "71 {1, 2, 35, 5, 70, 7, 10, 14} [1, 2, 3, 4, 6, 8, 9, 12, 18, 24, 36, 72]\n",
      "73 {1, 2, 3, 4, 36, 6, 8, 9, 72, 12, 18, 24} [1, 2, 37, 74]\n",
      "79 {1, 2, 3, 6, 39, 13, 78, 26} [1, 2, 4, 5, 8, 10, 16, 20, 40, 80]\n",
      "83 {1, 2, 82, 41} [1, 2, 3, 4, 6, 7, 12, 14, 21, 28, 42, 84]\n",
      "89 {1, 2, 4, 8, 11, 44, 22, 88} [1, 2, 3, 5, 6, 9, 10, 15, 18, 30, 45, 90]\n",
      "97 {32, 1, 2, 3, 4, 96, 6, 8, 12, 16, 48, 24} [1, 2, 7, 14, 49, 98]\n"
     ]
    }
   ],
   "source": [
    "p = 3\n",
    "while p<101:\n",
    "    \n",
    "    K = GF(p)\n",
    "    K2 = GF(p^2)\n",
    "    miss=set()\n",
    "    for a in K2:\n",
    "        if not a in K:\n",
    "            #print(a,a.multiplicative_order())\n",
    "            miss.add(a.multiplicative_order())\n",
    "    \n",
    "    assert set(divisors(p-1))==set(divisors(p^2-1)).difference(miss)\n",
    "    print(p, set(divisors(p^2-1)).difference(miss),divisors(p+1))\n",
    "    p=next_prime(p)\n"
   ]
  },
  {
   "cell_type": "code",
   "execution_count": 46,
   "metadata": {},
   "outputs": [
    {
     "name": "stdout",
     "output_type": "stream",
     "text": [
      "5 [7, 14, 21, 24, 28, 42, 84, 168]\n",
      "11 [7, 8, 14, 21, 28, 42, 56, 84]\n",
      "2 [7, 8, 14, 21, 28, 42, 56, 84]\n",
      "4 [7, 8, 14, 21, 24, 28, 42, 56, 168]\n",
      "8 [7, 14, 21, 24, 28, 42, 84, 168]\n",
      "1 [8, 21, 24, 28, 42, 56, 84, 168]\n",
      "7 [7, 8, 14, 21, 28, 42, 56, 84]\n",
      "9 [7, 8, 14, 24, 28, 56, 84, 168]\n",
      "2 [7, 8, 14, 21, 28, 42, 56, 84]\n"
     ]
    }
   ],
   "source": [
    "p = 31\n",
    "l = 13\n",
    "while p<70:\n",
    "    counter=0\n",
    "    orders = set()\n",
    "    orders2 = set(divisors(l^2-1)).difference(divisors(l-1))\n",
    "    for j in GF(p):\n",
    "\n",
    "        E1 = EllipticCurve_from_j(j)\n",
    "        E2 = E.quadratic_twist()\n",
    "        if E.is_supersingular():\n",
    "            continue\n",
    "        for E in [E1,E2]:\n",
    "\n",
    "            f = E.frobenius_polynomial()\n",
    "        #Q.<x> = PolynomialRing()\n",
    "            if not f.roots(GF(l)):\n",
    "                counter+=1\n",
    "                [(a,e1),(b,e2)] = f.roots(GF(l^2))\n",
    "                #print(a.multiplicative_order())\n",
    "                orders.add(a.multiplicative_order())\n",
    "                assert a.multiplicative_order()==b.multiplicative_order()\n",
    "    \n",
    "    print(p%l,sorted(list(orders2.difference(orders))))\n",
    "    #print(counter)\n",
    "    p = next_prime(p)"
   ]
  },
  {
   "cell_type": "code",
   "execution_count": null,
   "metadata": {},
   "outputs": [],
   "source": []
  }
 ],
 "metadata": {
  "kernelspec": {
   "display_name": "SageMath 9.0",
   "language": "sage",
   "name": "sagemath"
  },
  "language_info": {
   "codemirror_mode": {
    "name": "ipython",
    "version": 3
   },
   "file_extension": ".py",
   "mimetype": "text/x-python",
   "name": "python",
   "nbconvert_exporter": "python",
   "pygments_lexer": "ipython3",
   "version": "3.7.3"
  }
 },
 "nbformat": 4,
 "nbformat_minor": 2
}
